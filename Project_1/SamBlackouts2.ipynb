{
 "cells": [
  {
   "cell_type": "code",
   "execution_count": null,
   "id": "ad1a257c-192b-4512-982c-e57d391ef828",
   "metadata": {
    "jupyter": {
     "source_hidden": true
    }
   },
   "outputs": [],
   "source": [
    "%%capture\n",
    "!pip install plotly"
   ]
  },
  {
   "cell_type": "code",
   "execution_count": null,
   "id": "1eb6473b-dca3-4fec-aeeb-f0ce5569aa79",
   "metadata": {
    "jupyter": {
     "source_hidden": true
    }
   },
   "outputs": [],
   "source": [
    "import pandas as pd\n",
    "import plotly.express as px\n",
    "import plotly.graph_objects as go\n",
    "import numpy as np\n",
    "import geopandas as gpd\n",
    "from shapely.geometry import Point\n",
    "import requests\n",
    "import matplotlib.pyplot as plt # matplotlib\n",
    "import urllib.request # download request\n",
    "import warnings # to suppress warnings\n",
    "from datetime import datetime, timedelta\n",
    "from power_outage_data import load_yearly_data, load_fips_shapes, lat_lon_to_fips\n",
    "from storm_data import load_tracks, get_timestamps, get_intensity_max\n",
    "warnings.filterwarnings('ignore')"
   ]
  },
  {
   "cell_type": "code",
   "execution_count": null,
   "id": "47b8ecff-d494-425a-b6a6-89bc105098af",
   "metadata": {
    "jupyter": {
     "source_hidden": true
    }
   },
   "outputs": [],
   "source": [
    "yearly_data = load_yearly_data()\n",
    "outages_2017 = yearly_data[2017]\n",
    "fips_shapes = load_fips_shapes()"
   ]
  },
  {
   "cell_type": "code",
   "execution_count": null,
   "id": "8941d567-6913-4bdd-8b4c-1ec404f78575",
   "metadata": {
    "jupyter": {
     "source_hidden": true
    }
   },
   "outputs": [],
   "source": [
    "tks = load_tracks()\n",
    "\n",
    "# blackout dataset only from 2014\n",
    "storms = tks.where(tks.season>=2014, drop=True)\n",
    "storm_ids = []\n",
    "\n",
    "for i in range(storms.dims['storm']):\n",
    "    landfall = storms.landfall.values[i]\n",
    "    sid = storms.sid.values[i]\n",
    "    if 0 in landfall:\n",
    "        storm_ids.append(sid)\n",
    "\n",
    "# filter to landfall storms, NOT currently filtered to US\n",
    "mask = storms['sid'].isin(storm_ids)\n",
    "filtered = storms.where(mask, drop=True)"
   ]
  },
  {
   "cell_type": "code",
   "execution_count": null,
   "id": "5cc49ccf-aec6-41cf-96cc-a23ee831c6f4",
   "metadata": {
    "jupyter": {
     "source_hidden": true
    }
   },
   "outputs": [],
   "source": [
    "gdf = gpd.GeoDataFrame.from_features(fips_shapes['features'])\n",
    "gdf['fips_code'] = gdf['STATE'] + gdf['COUNTY']\n",
    "gdf = gdf.rename(columns = {'NAME': 'county'})"
   ]
  },
  {
   "cell_type": "code",
   "execution_count": null,
   "id": "d98877b7-8be0-4dcb-bb99-33156e9b6f04",
   "metadata": {
    "jupyter": {
     "source_hidden": true
    }
   },
   "outputs": [],
   "source": [
    "def animated_plot(storm):\n",
    "    example = filtered.sel(storm=20)\n",
    "    lon_lst, lat_lst = example.lon.values, example.lat.values\n",
    "    landfall = example.landfall.values\n",
    "    timestamps, dates, hours = get_timestamps(example)\n",
    "    intensity = get_intensity(example)"
   ]
  },
  {
   "cell_type": "code",
   "execution_count": null,
   "id": "26cb3061-db2f-4e4a-a431-343b21c6513e",
   "metadata": {
    "jupyter": {
     "source_hidden": true
    }
   },
   "outputs": [],
   "source": [
    "harvey = pd.DataFrame({'lat': lat_lst, 'lon': lon_lst, 'timestamp': timestamps,\n",
    "                       'date': dates, 'hour': hours, 'intensity':intensity})\n",
    "harvey = harvey.dropna()"
   ]
  },
  {
   "cell_type": "code",
   "execution_count": null,
   "id": "a859218a-1dff-4331-96c0-8ad1765643f8",
   "metadata": {
    "jupyter": {
     "source_hidden": true
    }
   },
   "outputs": [],
   "source": [
    "# filter to daily max for both outages and storm lat/lon\n",
    "filtered_outages=outages_2017.drop(columns = 'hour').groupby(by = ['fips_code', 'county', 'state', 'date']).max().reset_index()\n",
    "harvey_filtered = harvey[['lat', 'lon', 'intensity', 'date']].groupby(by='date').max().reset_index()\n",
    "\n",
    "# filter outage df to duration of storm\n",
    "test = filtered_outages.merge(harvey_filtered, on='date', how = 'right').drop(columns=['lat', 'lon'])\n",
    "test.head()"
   ]
  },
  {
   "cell_type": "code",
   "execution_count": null,
   "id": "863d53be-ed96-4a72-920d-ff4ba5c80d6d",
   "metadata": {
    "jupyter": {
     "source_hidden": true
    }
   },
   "outputs": [],
   "source": [
    "# group by state\n",
    "# county level was too granular for the viz\n",
    "\n",
    "test_states = test[['state', 'date', 'customers_out', 'intensity']].groupby(['state', 'date']).sum().reset_index()\n",
    "dates = list(set(test_states.date))\n",
    "dates = sorted(dates)"
   ]
  },
  {
   "cell_type": "code",
   "execution_count": null,
   "id": "f5daca5b-a0db-495f-8dcc-c15dbef3f855",
   "metadata": {
    "jupyter": {
     "source_hidden": true
    }
   },
   "outputs": [],
   "source": [
    "state_dict = {'Alabama':'AL', 'Arkansas': 'AR', 'Connecticut': 'CT',\n",
    "              'Delaware': 'DE', 'Florida': 'FL', 'Kentucky': 'KY',\n",
    "              'Louisiana':'LA', 'Maine':'ME', 'Maryland':'MD',\n",
    "              'Massachusetts':'MA', 'Mississippi':'MS',\n",
    "              'Missouri':'MO', 'New Hampshire':'NH', 'New Jersey': 'NJ',\n",
    "              'New York':'NY', 'North Carolina':'NC', 'Oklahoma':'OK',\n",
    "              'Rhode Island':'RI', 'South Carolina':'SC', 'Tennessee':'TN',\n",
    "              'Texas': 'TX', 'Virginia':'VA', 'West Virginia':'WV',\n",
    "              'Georgia':'GA'}\n",
    "\n",
    "test_states['state_abbr'] = test_states['state'].map(state_dict)"
   ]
  },
  {
   "cell_type": "code",
   "execution_count": null,
   "id": "3a9dcb8d-3aea-4750-8bdd-a55fbd9e4dca",
   "metadata": {
    "jupyter": {
     "source_hidden": true
    }
   },
   "outputs": [],
   "source": [
    "harvey_filtered = harvey_filtered.sort_values(by = 'date')\n",
    "latitudes = harvey_filtered.lat\n",
    "longitudes = harvey_filtered.lon"
   ]
  },
  {
   "cell_type": "code",
   "execution_count": null,
   "id": "23dea5cb-da40-450c-abeb-7971d7cac213",
   "metadata": {
    "jupyter": {
     "source_hidden": true
    }
   },
   "outputs": [],
   "source": [
    "scatter_data = []\n",
    "for i, date in enumerate(dates):\n",
    "    # Each timestep includes all previous hurricane locations\n",
    "    for j in range(i + 1):\n",
    "        scatter_data.append({\n",
    "            'date': date.strftime('%Y-%m-%d'),\n",
    "            'lat': latitudes[j],\n",
    "            'lon': longitudes[j],\n",
    "            'intensity':float(intensity[j])\n",
    "        })\n",
    "\n",
    "df_hurricane = pd.DataFrame(scatter_data)\n",
    "df_hurricane.date = pd.to_datetime(df_hurricane['date'], format='%Y-%m-%d')\n",
    "df_hurricane.date = [d.date() for d in df_hurricane.date]\n",
    "avg_intensity = df_hurricane.intensity.mean() # to scale down intensity point sizes\n",
    "df_hurricane.intensity = (df_hurricane.intensity / avg_intensity) * 10\n",
    "df_hurricane.intensity = df_hurricane.intensity.fillna(method='ffill')\n",
    "\n",
    "# Create base figure\n",
    "fig = go.Figure()\n",
    "\n",
    "# Initial Data (First Date)\n",
    "initial_date = df_hurricane.date[0]\n",
    "df_initial_hurricane = df_hurricane[df_hurricane['date'] == initial_date]\n",
    "df_initial_choropleth = test_states[test_states['date'] == initial_date]\n",
    "\n",
    "# Choropleth layer\n",
    "fig.add_trace(go.Choropleth(\n",
    "    locations=df_initial_choropleth['state_abbr'],\n",
    "    z=df_initial_choropleth['customers_out'],\n",
    "    locationmode='USA-states',\n",
    "    colorbar_title='Customers Out of Power',\n",
    "    name='Choropleth',\n",
    "    zmin=0, zmax=100000,\n",
    "    colorscale='Inferno_r'\n",
    "))\n",
    "\n",
    "# Hurricane Path (Scattergeo)\n",
    "fig.add_trace(go.Scattergeo(\n",
    "    lon=df_initial_hurricane['lon'],\n",
    "    lat=df_initial_hurricane['lat'],\n",
    "    mode='markers',\n",
    "    marker=dict(color='red', symbol='circle', size=df_initial_hurricane['intensity']),\n",
    "    name='Hurricane Path'\n",
    "))\n",
    "\n",
    "# Add Frames for Animation (cumulative hurricane path)\n",
    "frames = []\n",
    "for date in df_hurricane['date'].unique():\n",
    "    df_day_hurricane = df_hurricane[df_hurricane['date'] <= date]  # Include all previous points\n",
    "    df_day_choropleth = test_states[test_states['date'] == date]\n",
    "    \n",
    "    frames.append(go.Frame(\n",
    "        data=[\n",
    "            go.Choropleth(locations=df_day_choropleth['state_abbr'],\n",
    "                          z=df_day_choropleth['customers_out'],\n",
    "                          zmin=0, zmax=100000),\n",
    "            go.Scattergeo(lon=df_day_hurricane['lon'], lat=df_day_hurricane['lat'], \n",
    "                          mode='markers',\n",
    "                          marker=dict(color='red', symbol='circle', size = df_day_hurricane['intensity']))\n",
    "        ],\n",
    "        name=date.strftime('%Y-%m-%d')\n",
    "    ))\n",
    "\n",
    "fig.update(frames=frames)\n",
    "\n",
    "# Add Slider & Play Button\n",
    "fig.update_layout(\n",
    "    updatemenus=[{\n",
    "        'buttons': [\n",
    "            {'args': [None, {'frame': {'duration': 500, 'redraw': True}, 'mode': 'immediate'}],\n",
    "             'label': 'Play',\n",
    "             'method': 'animate'},\n",
    "            {'args': [[None], {'frame': {'duration': 0, 'redraw': True}, 'mode': 'immediate'}],\n",
    "             'label': 'Pause',\n",
    "             'method': 'animate'}\n",
    "        ],\n",
    "        'direction': 'left',\n",
    "        'pad': {'r': 10, 't': 87},\n",
    "        'showactive': False,\n",
    "        'type': 'buttons',\n",
    "        'x': 0.1,\n",
    "        'xanchor': 'right',\n",
    "        'y': 0,\n",
    "        'yanchor': 'top'\n",
    "    }],\n",
    "    sliders=[{\n",
    "        'steps': [{'args': [[date], {'frame': {'duration': 0, 'redraw': True}, 'mode': 'immediate'}],\n",
    "                   'label': date.strftime('%Y-%m-%d'), 'method': 'animate'} for date in df_hurricane['date'].unique()],\n",
    "        'currentvalue': {'prefix': 'Date: ', 'font': {'size': 20}},\n",
    "        'x': 0.1,\n",
    "        'y': -0.2\n",
    "    }]\n",
    ")\n",
    "\n",
    "# Layout Settings\n",
    "fig.update_layout(\n",
    "    geo=dict(fitbounds='locations'),\n",
    "    title_text='Hurricane Path with Power Outages',\n",
    "    height=600, width = 1000\n",
    ")\n",
    "\n",
    "fig.show()"
   ]
  },
  {
   "cell_type": "code",
   "execution_count": null,
   "id": "e139083d-4857-403f-8102-66b4f928a2a4",
   "metadata": {
    "jupyter": {
     "source_hidden": true
    }
   },
   "outputs": [],
   "source": [
    "scatter_data = []\n",
    "for i, date in enumerate(dates):\n",
    "    # Each timestep includes all previous hurricane locations\n",
    "    for j in range(i + 1):\n",
    "        scatter_data.append({\n",
    "            'date': date.strftime('%Y-%m-%d'),\n",
    "            'lat': latitudes[j],\n",
    "            'lon': longitudes[j]\n",
    "        })\n",
    "\n",
    "df_hurricane = pd.DataFrame(scatter_data)\n",
    "df_hurricane.date = pd.to_datetime(df_hurricane['date'], format='%Y-%m-%d')\n",
    "df_hurricane.date = [d.date() for d in df_hurricane.date]\n",
    "\n",
    "# Create base figure\n",
    "fig = go.Figure()\n",
    "\n",
    "# Initial Data (First Date)\n",
    "initial_date = df_hurricane.date[0]\n",
    "df_initial_hurricane = df_hurricane[df_hurricane['date'] == initial_date]\n",
    "df_initial_choropleth = test[test['date'] == test.date.min()]\n",
    "\n",
    "# Choropleth layer\n",
    "fig.add_trace(go.Choropleth(\n",
    "    locations=df_initial_choropleth['fips_code'],\n",
    "    z=df_initial_choropleth['customers_out'],\n",
    "    geojson=fips_shapes,\n",
    "    colorbar_title='Customers Out of Power',\n",
    "    name='Choropleth',\n",
    "    zmin=0, zmax=1000,\n",
    "    colorscale='Inferno_r'\n",
    "))\n",
    "\n",
    "# Hurricane Path (Scattergeo)\n",
    "fig.add_trace(go.Scattergeo(\n",
    "    lon=df_initial_hurricane['lon'],\n",
    "    lat=df_initial_hurricane['lat'],\n",
    "    mode='markers',\n",
    "    marker=dict(color='red', symbol='circle'),\n",
    "    name='Hurricane Path'\n",
    "))\n",
    "\n",
    "# Add Frames for Animation (cumulative hurricane path)\n",
    "frames = []\n",
    "for date in df_hurricane['date'].unique():\n",
    "    df_day_hurricane = df_hurricane[df_hurricane['date'] <= date]  # Include all previous points\n",
    "    df_day_choropleth = test[test['date'] == date]\n",
    "    \n",
    "    frames.append(go.Frame(\n",
    "        data=[\n",
    "            go.Choropleth(locations=df_day_choropleth['fips_code'],\n",
    "                          z=df_day_choropleth['customers_out'],\n",
    "                          zmin=0, zmax=1000),\n",
    "            go.Scattergeo(lon=df_day_hurricane['lon'], lat=df_day_hurricane['lat'], \n",
    "                          mode='markers',\n",
    "                          marker=dict(color='red', symbol='circle'))\n",
    "        ],\n",
    "        name=date.strftime('%Y-%m-%d')\n",
    "    ))\n",
    "\n",
    "fig.update(frames=frames)\n",
    "\n",
    "# Add Slider & Play Button\n",
    "fig.update_layout(\n",
    "    updatemenus=[{\n",
    "        'buttons': [\n",
    "            {'args': [None, {'frame': {'duration': 500, 'redraw': True}, 'mode': 'immediate'}],\n",
    "             'label': 'Play',\n",
    "             'method': 'animate'},\n",
    "            {'args': [[None], {'frame': {'duration': 0, 'redraw': True}, 'mode': 'immediate'}],\n",
    "             'label': 'Pause',\n",
    "             'method': 'animate'}\n",
    "        ],\n",
    "        'direction': 'left',\n",
    "        'pad': {'r': 10, 't': 87},\n",
    "        'showactive': False,\n",
    "        'type': 'buttons',\n",
    "        'x': 0.1,\n",
    "        'xanchor': 'right',\n",
    "        'y': 0,\n",
    "        'yanchor': 'top'\n",
    "    }],\n",
    "    sliders=[{\n",
    "        'steps': [{'args': [[date], {'frame': {'duration': 0, 'redraw': True}, 'mode': 'immediate'}],\n",
    "                   'label': date.strftime('%Y-%m-%d'), 'method': 'animate'} for date in df_hurricane['date'].unique()],\n",
    "        'currentvalue': {'prefix': 'Date: ', 'font': {'size': 20}},\n",
    "        'x': 0.1,\n",
    "        'y': -0.2\n",
    "    }]\n",
    ")\n",
    "\n",
    "# Layout Settings\n",
    "fig.update_layout(\n",
    "    geo=dict(fitbounds='locations'),\n",
    "    title_text='Hurricane Path with Power Outages',\n",
    "    height=600, width = 1000\n",
    ")\n",
    "\n",
    "fig.show()"
   ]
  },
  {
   "cell_type": "code",
   "execution_count": null,
   "id": "f0e89b9f-c00f-43b8-b829-599caeb86364",
   "metadata": {
    "jupyter": {
     "source_hidden": true
    }
   },
   "outputs": [],
   "source": [
    "filtered_outages.loc[filtered_outages.fips_code=='01001']"
   ]
  },
  {
   "cell_type": "code",
   "execution_count": null,
   "id": "473acedc-a74e-42e8-9e96-30083e2196bd",
   "metadata": {
    "jupyter": {
     "source_hidden": true
    }
   },
   "outputs": [],
   "source": [
    "outages_2017.loc[(outages_2017.fips_code=='01001')]"
   ]
  },
  {
   "cell_type": "code",
   "execution_count": null,
   "id": "c147642f-2ad6-4f0f-9afb-c6708dfa6e2d",
   "metadata": {
    "jupyter": {
     "source_hidden": true
    }
   },
   "outputs": [],
   "source": []
  }
 ],
 "metadata": {
  "kernelspec": {
   "display_name": "Python 3 (ipykernel)",
   "language": "python",
   "name": "python3"
  },
  "language_info": {
   "codemirror_mode": {
    "name": "ipython",
    "version": 3
   },
   "file_extension": ".py",
   "mimetype": "text/x-python",
   "name": "python",
   "nbconvert_exporter": "python",
   "pygments_lexer": "ipython3",
   "version": "3.12.7"
  }
 },
 "nbformat": 4,
 "nbformat_minor": 5
}
