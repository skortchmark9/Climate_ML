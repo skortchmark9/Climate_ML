{
 "cells": [
  {
   "cell_type": "markdown",
   "metadata": {
    "id": "W4Fl7gdC9Ct5"
   },
   "source": [
    "# **Exploring Hurricane Tracks**\n",
    "\n",
    "In this notebook, we reproduce some of the analysis carried out in \"Classifying North Atlantic tropical cyclone tracks by mass moments.\" Journal of Climate 22.20 (2009): [5481-5494](https://journals.ametsoc.org/configurable/content/journals$002fclim$002f22$002f20$002f2009jcli2828.1.xml?t:ac=journals%24002fclim%24002f22%24002f20%24002f2009jcli2828.1.xml) by Nakamura, Jennifer, et al.\n",
    "\n",
    "This notebook (a Python-based JupyterNotebook) provides a set of starter codes for [LEAP CPC Spring 2025](https://github.com/leap-stc/LEAPCourse-Climate-Pred-Challenges) [**Project 1**](https://github.com/leap-stc/LEAPCourse-Climate-Pred-Challenges#project-cycle-1-individual-notebook-for-exploratory-data-analysis) on\n",
    "\n",
    "+ how to work with x-array data (given the hurricane tracks data),\n",
    "+ how to visualize tracks and their moments,\n",
    "+ how to carry out basic analysis on the hurricane data,\n",
    "+ how to do k-means with the moments based on the paper's original idea.\n",
    "\n",
    "All the codes in this notebook can be modified to implement research ideas.  \n"
   ]
  },
  {
   "cell_type": "markdown",
   "metadata": {},
   "source": [
    "\n",
    "- Github sharing is recommended.\n",
    "    - See our Github [tutorial](https://github.com/leap-stc/LEAPCourse-Climate-Pred-Challenges/blob/main/Tutorials/Github-Tutorial.md).\n",
    "    - If you need help, please reach out to TA Xinyi Ke xk2161@columbia.edu.\n",
    "\n",
    "\n"
   ]
  },
  {
   "cell_type": "markdown",
   "metadata": {
    "id": "f29WJGTf_A0g"
   },
   "source": [
    "# Step 0: Setup workspace"
   ]
  },
  {
   "cell_type": "code",
   "execution_count": 49,
   "metadata": {
    "id": "vvWsqLU6F3eG"
   },
   "outputs": [],
   "source": [
    "import os\n",
    "cwd=os.getcwd()\n",
    "\n",
    "cwd_data=cwd+'/data'\n",
    "\n",
    "if not os.path.exists(cwd_data):\n",
    "    os.mkdir(cwd_data)"
   ]
  },
  {
   "cell_type": "markdown",
   "metadata": {
    "id": "6Wn73aKZIDLw"
   },
   "source": [
    "\n",
    "Setup a subfolder for downloaded raw data and another subfolder for outputs. This prevents you from overwrites raw data by accident.\n",
    "\n",
    "You can check that this new folder called 'data' was created. To view the files in your workspace, click on the 'File Browser' buttom at the left side-bar.\n",
    "\n",
    "This folder will be used to store data which will be later downloaded.\n",
    "\n",
    "---\n",
    "\n"
   ]
  },
  {
   "cell_type": "markdown",
   "metadata": {
    "id": "XQfWTpAPlZtN"
   },
   "source": [
    "# Step 1: Install packages, import packages and download data\n"
   ]
  },
  {
   "cell_type": "markdown",
   "metadata": {
    "id": "S3ZWeAdB-KHj"
   },
   "source": [
    "## 1.1 Packages\n",
    "\n",
    "Download the required packges."
   ]
  },
  {
   "cell_type": "code",
   "execution_count": 50,
   "metadata": {
    "id": "BnibQdXPWcNw"
   },
   "outputs": [],
   "source": [
    "%%capture\n",
    "# These uninstallation must be done to ensure that no version conflicts would happen.\n",
    "!pip uninstall --yes cartopy\n",
    "!pip uninstall --yes shapely\n",
    "# Shapely and cartopy are used for graphing maps and tracks.\n",
    "!pip install shapely cartopy\n",
    "!pip install gender_guesser\n",
    "!pip install plotly"
   ]
  },
  {
   "cell_type": "code",
   "execution_count": 51,
   "metadata": {
    "id": "8CyaGajxGdwF"
   },
   "outputs": [
    {
     "name": "stderr",
     "output_type": "stream",
     "text": [
      "[autoreload of shapely.geometry.collection failed: Traceback (most recent call last):\n",
      "  File \"/Users/samuelkortchmar/Documents/Columbia/Climate ML/Climate_ML/.venv/lib/python3.13/site-packages/IPython/extensions/autoreload.py\", line 276, in check\n",
      "    superreload(m, reload, self.old_objects)\n",
      "    ~~~~~~~~~~~^^^^^^^^^^^^^^^^^^^^^^^^^^^^^\n",
      "  File \"/Users/samuelkortchmar/Documents/Columbia/Climate ML/Climate_ML/.venv/lib/python3.13/site-packages/IPython/extensions/autoreload.py\", line 475, in superreload\n",
      "    module = reload(module)\n",
      "  File \"/opt/homebrew/Cellar/python@3.13/3.13.1/Frameworks/Python.framework/Versions/3.13/lib/python3.13/importlib/__init__.py\", line 129, in reload\n",
      "    _bootstrap._exec(spec, module)\n",
      "    ~~~~~~~~~~~~~~~~^^^^^^^^^^^^^^\n",
      "  File \"<frozen importlib._bootstrap>\", line 866, in _exec\n",
      "  File \"<frozen importlib._bootstrap_external>\", line 1026, in exec_module\n",
      "  File \"<frozen importlib._bootstrap>\", line 488, in _call_with_frames_removed\n",
      "  File \"/Users/samuelkortchmar/Documents/Columbia/Climate ML/Climate_ML/.venv/lib/python3.13/site-packages/shapely/geometry/collection.py\", line 58, in <module>\n",
      "    shapely.lib.registry[7] = GeometryCollection\n",
      "    ^^^^^^^^^^^\n",
      "AttributeError: module 'shapely' has no attribute 'lib'\n",
      "]\n",
      "[autoreload of shapely.geometry.point failed: Traceback (most recent call last):\n",
      "  File \"/Users/samuelkortchmar/Documents/Columbia/Climate ML/Climate_ML/.venv/lib/python3.13/site-packages/IPython/extensions/autoreload.py\", line 276, in check\n",
      "    superreload(m, reload, self.old_objects)\n",
      "    ~~~~~~~~~~~^^^^^^^^^^^^^^^^^^^^^^^^^^^^^\n",
      "  File \"/Users/samuelkortchmar/Documents/Columbia/Climate ML/Climate_ML/.venv/lib/python3.13/site-packages/IPython/extensions/autoreload.py\", line 475, in superreload\n",
      "    module = reload(module)\n",
      "  File \"/opt/homebrew/Cellar/python@3.13/3.13.1/Frameworks/Python.framework/Versions/3.13/lib/python3.13/importlib/__init__.py\", line 129, in reload\n",
      "    _bootstrap._exec(spec, module)\n",
      "    ~~~~~~~~~~~~~~~~^^^^^^^^^^^^^^\n",
      "  File \"<frozen importlib._bootstrap>\", line 866, in _exec\n",
      "  File \"<frozen importlib._bootstrap_external>\", line 1026, in exec_module\n",
      "  File \"<frozen importlib._bootstrap>\", line 488, in _call_with_frames_removed\n",
      "  File \"/Users/samuelkortchmar/Documents/Columbia/Climate ML/Climate_ML/.venv/lib/python3.13/site-packages/shapely/geometry/point.py\", line 145, in <module>\n",
      "    shapely.lib.registry[0] = Point\n",
      "    ^^^^^^^^^^^\n",
      "AttributeError: module 'shapely' has no attribute 'lib'\n",
      "]\n",
      "[autoreload of shapely.geometry.linestring failed: Traceback (most recent call last):\n",
      "  File \"/Users/samuelkortchmar/Documents/Columbia/Climate ML/Climate_ML/.venv/lib/python3.13/site-packages/IPython/extensions/autoreload.py\", line 276, in check\n",
      "    superreload(m, reload, self.old_objects)\n",
      "    ~~~~~~~~~~~^^^^^^^^^^^^^^^^^^^^^^^^^^^^^\n",
      "  File \"/Users/samuelkortchmar/Documents/Columbia/Climate ML/Climate_ML/.venv/lib/python3.13/site-packages/IPython/extensions/autoreload.py\", line 475, in superreload\n",
      "    module = reload(module)\n",
      "  File \"/opt/homebrew/Cellar/python@3.13/3.13.1/Frameworks/Python.framework/Versions/3.13/lib/python3.13/importlib/__init__.py\", line 129, in reload\n",
      "    _bootstrap._exec(spec, module)\n",
      "    ~~~~~~~~~~~~~~~~^^^^^^^^^^^^^^\n",
      "  File \"<frozen importlib._bootstrap>\", line 866, in _exec\n",
      "  File \"<frozen importlib._bootstrap_external>\", line 1026, in exec_module\n",
      "  File \"<frozen importlib._bootstrap>\", line 488, in _call_with_frames_removed\n",
      "  File \"/Users/samuelkortchmar/Documents/Columbia/Climate ML/Climate_ML/.venv/lib/python3.13/site-packages/shapely/geometry/linestring.py\", line 188, in <module>\n",
      "    shapely.lib.registry[1] = LineString\n",
      "    ^^^^^^^^^^^\n",
      "AttributeError: module 'shapely' has no attribute 'lib'\n",
      "]\n",
      "[autoreload of shapely.geometry.multilinestring failed: Traceback (most recent call last):\n",
      "  File \"/Users/samuelkortchmar/Documents/Columbia/Climate ML/Climate_ML/.venv/lib/python3.13/site-packages/IPython/extensions/autoreload.py\", line 276, in check\n",
      "    superreload(m, reload, self.old_objects)\n",
      "    ~~~~~~~~~~~^^^^^^^^^^^^^^^^^^^^^^^^^^^^^\n",
      "  File \"/Users/samuelkortchmar/Documents/Columbia/Climate ML/Climate_ML/.venv/lib/python3.13/site-packages/IPython/extensions/autoreload.py\", line 475, in superreload\n",
      "    module = reload(module)\n",
      "  File \"/opt/homebrew/Cellar/python@3.13/3.13.1/Frameworks/Python.framework/Versions/3.13/lib/python3.13/importlib/__init__.py\", line 129, in reload\n",
      "    _bootstrap._exec(spec, module)\n",
      "    ~~~~~~~~~~~~~~~~^^^^^^^^^^^^^^\n",
      "  File \"<frozen importlib._bootstrap>\", line 866, in _exec\n",
      "  File \"<frozen importlib._bootstrap_external>\", line 1026, in exec_module\n",
      "  File \"<frozen importlib._bootstrap>\", line 488, in _call_with_frames_removed\n",
      "  File \"/Users/samuelkortchmar/Documents/Columbia/Climate ML/Climate_ML/.venv/lib/python3.13/site-packages/shapely/geometry/multilinestring.py\", line 93, in <module>\n",
      "    shapely.lib.registry[5] = MultiLineString\n",
      "    ^^^^^^^^^^^\n",
      "AttributeError: module 'shapely' has no attribute 'lib'\n",
      "]\n",
      "[autoreload of shapely.geometry.multipoint failed: Traceback (most recent call last):\n",
      "  File \"/Users/samuelkortchmar/Documents/Columbia/Climate ML/Climate_ML/.venv/lib/python3.13/site-packages/IPython/extensions/autoreload.py\", line 276, in check\n",
      "    superreload(m, reload, self.old_objects)\n",
      "    ~~~~~~~~~~~^^^^^^^^^^^^^^^^^^^^^^^^^^^^^\n",
      "  File \"/Users/samuelkortchmar/Documents/Columbia/Climate ML/Climate_ML/.venv/lib/python3.13/site-packages/IPython/extensions/autoreload.py\", line 475, in superreload\n",
      "    module = reload(module)\n",
      "  File \"/opt/homebrew/Cellar/python@3.13/3.13.1/Frameworks/Python.framework/Versions/3.13/lib/python3.13/importlib/__init__.py\", line 129, in reload\n",
      "    _bootstrap._exec(spec, module)\n",
      "    ~~~~~~~~~~~~~~~~^^^^^^^^^^^^^^\n",
      "  File \"<frozen importlib._bootstrap>\", line 866, in _exec\n",
      "  File \"<frozen importlib._bootstrap_external>\", line 1026, in exec_module\n",
      "  File \"<frozen importlib._bootstrap>\", line 488, in _call_with_frames_removed\n",
      "  File \"/Users/samuelkortchmar/Documents/Columbia/Climate ML/Climate_ML/.venv/lib/python3.13/site-packages/shapely/geometry/multipoint.py\", line 95, in <module>\n",
      "    shapely.lib.registry[4] = MultiPoint\n",
      "    ^^^^^^^^^^^\n",
      "AttributeError: module 'shapely' has no attribute 'lib'\n",
      "]\n",
      "[autoreload of shapely.geometry.polygon failed: Traceback (most recent call last):\n",
      "  File \"/Users/samuelkortchmar/Documents/Columbia/Climate ML/Climate_ML/.venv/lib/python3.13/site-packages/IPython/extensions/autoreload.py\", line 276, in check\n",
      "    superreload(m, reload, self.old_objects)\n",
      "    ~~~~~~~~~~~^^^^^^^^^^^^^^^^^^^^^^^^^^^^^\n",
      "  File \"/Users/samuelkortchmar/Documents/Columbia/Climate ML/Climate_ML/.venv/lib/python3.13/site-packages/IPython/extensions/autoreload.py\", line 475, in superreload\n",
      "    module = reload(module)\n",
      "  File \"/opt/homebrew/Cellar/python@3.13/3.13.1/Frameworks/Python.framework/Versions/3.13/lib/python3.13/importlib/__init__.py\", line 129, in reload\n",
      "    _bootstrap._exec(spec, module)\n",
      "    ~~~~~~~~~~~~~~~~^^^^^^^^^^^^^^\n",
      "  File \"<frozen importlib._bootstrap>\", line 866, in _exec\n",
      "  File \"<frozen importlib._bootstrap_external>\", line 1026, in exec_module\n",
      "  File \"<frozen importlib._bootstrap>\", line 488, in _call_with_frames_removed\n",
      "  File \"/Users/samuelkortchmar/Documents/Columbia/Climate ML/Climate_ML/.venv/lib/python3.13/site-packages/shapely/geometry/polygon.py\", line 130, in <module>\n",
      "    shapely.lib.registry[2] = LinearRing\n",
      "    ^^^^^^^^^^^\n",
      "AttributeError: module 'shapely' has no attribute 'lib'\n",
      "]\n",
      "[autoreload of shapely.geometry.multipolygon failed: Traceback (most recent call last):\n",
      "  File \"/Users/samuelkortchmar/Documents/Columbia/Climate ML/Climate_ML/.venv/lib/python3.13/site-packages/IPython/extensions/autoreload.py\", line 276, in check\n",
      "    superreload(m, reload, self.old_objects)\n",
      "    ~~~~~~~~~~~^^^^^^^^^^^^^^^^^^^^^^^^^^^^^\n",
      "  File \"/Users/samuelkortchmar/Documents/Columbia/Climate ML/Climate_ML/.venv/lib/python3.13/site-packages/IPython/extensions/autoreload.py\", line 475, in superreload\n",
      "    module = reload(module)\n",
      "  File \"/opt/homebrew/Cellar/python@3.13/3.13.1/Frameworks/Python.framework/Versions/3.13/lib/python3.13/importlib/__init__.py\", line 129, in reload\n",
      "    _bootstrap._exec(spec, module)\n",
      "    ~~~~~~~~~~~~~~~~^^^^^^^^^^^^^^\n",
      "  File \"<frozen importlib._bootstrap>\", line 866, in _exec\n",
      "  File \"<frozen importlib._bootstrap_external>\", line 1026, in exec_module\n",
      "  File \"<frozen importlib._bootstrap>\", line 488, in _call_with_frames_removed\n",
      "  File \"/Users/samuelkortchmar/Documents/Columbia/Climate ML/Climate_ML/.venv/lib/python3.13/site-packages/shapely/geometry/multipolygon.py\", line 126, in <module>\n",
      "    shapely.lib.registry[6] = MultiPolygon\n",
      "    ^^^^^^^^^^^\n",
      "AttributeError: module 'shapely' has no attribute 'lib'\n",
      "]\n",
      "[autoreload of cartopy.feature failed: Traceback (most recent call last):\n",
      "  File \"/Users/samuelkortchmar/Documents/Columbia/Climate ML/Climate_ML/.venv/lib/python3.13/site-packages/IPython/extensions/autoreload.py\", line 276, in check\n",
      "    superreload(m, reload, self.old_objects)\n",
      "    ~~~~~~~~~~~^^^^^^^^^^^^^^^^^^^^^^^^^^^^^\n",
      "  File \"/Users/samuelkortchmar/Documents/Columbia/Climate ML/Climate_ML/.venv/lib/python3.13/site-packages/IPython/extensions/autoreload.py\", line 475, in superreload\n",
      "    module = reload(module)\n",
      "  File \"/opt/homebrew/Cellar/python@3.13/3.13.1/Frameworks/Python.framework/Versions/3.13/lib/python3.13/importlib/__init__.py\", line 129, in reload\n",
      "    _bootstrap._exec(spec, module)\n",
      "    ~~~~~~~~~~~~~~~~^^^^^^^^^^^^^^\n",
      "  File \"<frozen importlib._bootstrap>\", line 866, in _exec\n",
      "  File \"<frozen importlib._bootstrap_external>\", line 1026, in exec_module\n",
      "  File \"<frozen importlib._bootstrap>\", line 488, in _call_with_frames_removed\n",
      "  File \"/Users/samuelkortchmar/Documents/Columbia/Climate ML/Climate_ML/.venv/lib/python3.13/site-packages/cartopy/feature/__init__.py\", line 490, in <module>\n",
      "    BORDERS = NaturalEarthFeature(\n",
      "        'cultural', 'admin_0_boundary_lines_land',\n",
      "        auto_scaler, edgecolor='black', facecolor='never')\n",
      "  File \"/Users/samuelkortchmar/Documents/Columbia/Climate ML/Climate_ML/.venv/lib/python3.13/site-packages/cartopy/feature/__init__.py\", line 261, in __init__\n",
      "    super().__init__(cartopy.crs.PlateCarree(), **kwargs)\n",
      "                     ^^^^^^^^^^^\n",
      "AttributeError: module 'cartopy' has no attribute 'crs'\n",
      "]\n",
      "[autoreload of cartopy.mpl.gridliner failed: Traceback (most recent call last):\n",
      "  File \"/Users/samuelkortchmar/Documents/Columbia/Climate ML/Climate_ML/.venv/lib/python3.13/site-packages/IPython/extensions/autoreload.py\", line 276, in check\n",
      "    superreload(m, reload, self.old_objects)\n",
      "    ~~~~~~~~~~~^^^^^^^^^^^^^^^^^^^^^^^^^^^^^\n",
      "  File \"/Users/samuelkortchmar/Documents/Columbia/Climate ML/Climate_ML/.venv/lib/python3.13/site-packages/IPython/extensions/autoreload.py\", line 475, in superreload\n",
      "    module = reload(module)\n",
      "  File \"/opt/homebrew/Cellar/python@3.13/3.13.1/Frameworks/Python.framework/Versions/3.13/lib/python3.13/importlib/__init__.py\", line 129, in reload\n",
      "    _bootstrap._exec(spec, module)\n",
      "    ~~~~~~~~~~~~~~~~^^^^^^^^^^^^^^\n",
      "  File \"<frozen importlib._bootstrap>\", line 866, in _exec\n",
      "  File \"<frozen importlib._bootstrap_external>\", line 1026, in exec_module\n",
      "  File \"<frozen importlib._bootstrap>\", line 488, in _call_with_frames_removed\n",
      "  File \"/Users/samuelkortchmar/Documents/Columbia/Climate ML/Climate_ML/.venv/lib/python3.13/site-packages/cartopy/mpl/gridliner.py\", line 41, in <module>\n",
      "    cartopy.crs.InterruptedGoodeHomolosine,\n",
      "    ^^^^^^^^^^^\n",
      "AttributeError: module 'cartopy' has no attribute 'crs'\n",
      "]\n"
     ]
    }
   ],
   "source": [
    "import cartopy.crs as ccrs # used for map projection\n",
    "import matplotlib.pyplot as plt # matplotlib\n",
    "import cartopy.feature as cfeature # used for map projection\n",
    "import xarray as xr # x-array\n",
    "import numpy as np # numpy\n",
    "import urllib.request # download request\n",
    "import warnings # to suppress warnings\n",
    "import gender_guesser.detector as gender # for analyzing the names of hurricanes\n",
    "from numpy import linalg as LA # to plot the moments (by calculating the eigenvalues)\n",
    "from sklearn.cluster import k_means # to perform k-means\n",
    "from collections import Counter # set operations\n",
    "import plotly.graph_objects as go\n",
    "warnings.filterwarnings('ignore')"
   ]
  },
  {
   "cell_type": "markdown",
   "metadata": {
    "id": "ji283EvZ-O28"
   },
   "source": [
    "## 1.2 Load Hurricane Data"
   ]
  },
  {
   "cell_type": "markdown",
   "metadata": {
    "id": "g9pOFkKv2Tk8"
   },
   "source": [
    "Useful links to read more about data:\n",
    "\n",
    "* [Official website for IBTrACS](https://www.ncdc.noaa.gov/ibtracs/). (where the data comes from)\n",
    "\n",
    "* [Tracks in other basins for IBTrACs (other than NA)](https://www.ncei.noaa.gov/data/international-best-track-archive-for-climate-stewardship-ibtracs/v04r00/access/netcdf/) (The data downloaded below covers the tracks in the basin 'NA' (North America). So, if you want to study tracks or hurricanes from other basins, this link might be helpful.)\n",
    "\n",
    "* Another source of data: [HURDAT2](https://oasishub.co/dataset/hurdat-2-atlantic-hurricane-database/resource/2c865c53-3fc3-4e16-9ef5-0d76a47cfcf3) (not used in this notebook, but might be useful)\n",
    "\n",
    "\n",
    "\n",
    "*   General documentation of the data: https://www.ncdc.noaa.gov/ibtracs/pdf/IBTrACS_version4_Technical_Details.pdf\n",
    "*   Detailed documentation on each variable(this is particularly helpful if you want to dig more into the dataset and find what problems you are interested in solving regarding the track data): https://www.ncdc.noaa.gov/ibtracs/pdf/IBTrACS_v04_column_documentation.pdf\n"
   ]
  },
  {
   "cell_type": "code",
   "execution_count": 52,
   "metadata": {},
   "outputs": [
    {
     "name": "stdout",
     "output_type": "stream",
     "text": [
      "File downloaded successfully.\n"
     ]
    }
   ],
   "source": [
    "import requests\n",
    "\n",
    "# IBTrACS.NA.v04r00.nc presents data from 1842-10-25 through 2023-06-07 \n",
    "url = 'https://www.ncei.noaa.gov/data/international-best-track-archive-for-climate-stewardship-ibtracs/v04r00/access/netcdf/IBTrACS.NA.v04r00.nc'\n",
    "output_file = 'data/NA_data.nc'\n",
    "\n",
    "try:\n",
    "    response = requests.get(url, timeout=60)\n",
    "    response.raise_for_status()  # Raise an error for HTTP codes >= 400\n",
    "    with open(output_file, 'wb') as f:\n",
    "        f.write(response.content)\n",
    "    print(\"File downloaded successfully.\")\n",
    "except requests.exceptions.RequestException as e:\n",
    "    print(f\"Request failed: {e}\")\n"
   ]
  },
  {
   "cell_type": "code",
   "execution_count": 53,
   "metadata": {
    "id": "BuDEE-7-4ksZ",
    "scrolled": true,
    "tags": []
   },
   "outputs": [],
   "source": [
    "# Download the needed track file\n",
    "filedata = urllib.request.urlopen('https://www.ncei.noaa.gov/data/international-best-track-archive-for-climate-stewardship-ibtracs/v04r00/access/netcdf/IBTrACS.NA.v04r00.nc')\n",
    "\n",
    "datatowrite = filedata.read()\n",
    "\n",
    "with open('data/NA_data.nc', 'wb') as f:   \n",
    "    f.write(datatowrite)"
   ]
  },
  {
   "cell_type": "markdown",
   "metadata": {
    "id": "9kk9QdPm-yPJ"
   },
   "source": [
    "Now, check the /data directory (left panell( to see if the data `NA_data.nc` has been saved there."
   ]
  },
  {
   "cell_type": "markdown",
   "metadata": {
    "id": "U1c1amAL7Vwi"
   },
   "source": [
    "# Step 2: Visualization of hurricane tracks\n",
    "\n",
    "\n",
    "\n",
    "\n"
   ]
  },
  {
   "cell_type": "markdown",
   "metadata": {
    "id": "vtRsLQmhB3M4",
    "tags": []
   },
   "source": [
    "In this section, the notebooks give examples on how to plot tracks on a map on locations specified by users.\n",
    "\n",
    "All the codes in this section can be directly used or modified to allow more features in later works."
   ]
  },
  {
   "cell_type": "markdown",
   "metadata": {
    "id": "waqLAZrHAljp"
   },
   "source": [
    "## 2.1 Map background"
   ]
  },
  {
   "cell_type": "markdown",
   "metadata": {
    "id": "YqjRz_U6CFId"
   },
   "source": [
    "This function plots a background map with parameters label and extent.\n",
    "\n",
    "\n",
    "\n",
    "*   **label**: boolean, to short label or not on the output map background\n",
    "*   **extent**: this controls where the projection appears, i.e., which part of earth map should appear on the projection. Its four entries can be viewd as (starting_longitude, ending_longitude, starting_latitude, ending_latitude).\n",
    "\n"
   ]
  },
  {
   "cell_type": "code",
   "execution_count": 54,
   "metadata": {
    "id": "vd-ez0KdUmvh"
   },
   "outputs": [],
   "source": [
    "def map_background(label=False, extent=[-100, 0, 0, 60]):\n",
    "  # A helpder function for creating the map background.\n",
    "  # INPUT:\n",
    "  # \"extent\": corresponds to the location information of the showed map.\n",
    "  # \"label\": boolean\n",
    "\n",
    "  # OUTPUT:\n",
    "  # Matplotlib AXES object\n",
    "\n",
    "  plt.figure(figsize = (20, 10))\n",
    "  ax = plt.axes(projection=ccrs.PlateCarree())\n",
    "  ax.coastlines()\n",
    "  ax.set_extent(extent)\n",
    "  ax.gridlines(draw_labels=label) # show labels or not\n",
    "  LAND = cfeature.NaturalEarthFeature('physical', 'land', '10m',\n",
    "                                      edgecolor='face',\n",
    "                                      facecolor=cfeature.COLORS['land'],\n",
    "                                          linewidth=.1)\n",
    "  OCEAN = cfeature.NaturalEarthFeature('physical', 'ocean', '10m',\n",
    "                                       edgecolor='face',\n",
    "                                       facecolor=cfeature.COLORS['water'], linewidth=.1)\n",
    "  ax.add_feature(LAND, zorder=0)\n",
    "  ax.add_feature(OCEAN)\n",
    "  return ax"
   ]
  },
  {
   "cell_type": "markdown",
   "metadata": {
    "id": "RkDsoHNqwiTg"
   },
   "source": [
    "## 2.1.1 A simple example using the function.\n",
    "\n",
    "Here, we plot a line between two Stanford and Berkeley using the above function."
   ]
  },
  {
   "cell_type": "code",
   "execution_count": 55,
   "metadata": {
    "colab": {
     "base_uri": "https://localhost:8080/",
     "height": 824
    },
    "id": "Opo5MoUmwgEh",
    "outputId": "d1e7606b-673c-47b0-87a1-2672bbf31fb8"
   },
   "outputs": [
    {
     "ename": "AttributeError",
     "evalue": "module 'cartopy' has no attribute 'crs'",
     "output_type": "error",
     "traceback": [
      "\u001b[0;31m---------------------------------------------------------------------------\u001b[0m",
      "\u001b[0;31mAttributeError\u001b[0m                            Traceback (most recent call last)",
      "Cell \u001b[0;32mIn[55], line 1\u001b[0m\n\u001b[0;32m----> 1\u001b[0m ax \u001b[38;5;241m=\u001b[39m \u001b[43mmap_background\u001b[49m\u001b[43m(\u001b[49m\u001b[43mextent\u001b[49m\u001b[38;5;241;43m=\u001b[39;49m\u001b[43m[\u001b[49m\u001b[38;5;241;43m-\u001b[39;49m\u001b[38;5;241;43m122.8\u001b[39;49m\u001b[43m,\u001b[49m\u001b[43m \u001b[49m\u001b[38;5;241;43m-\u001b[39;49m\u001b[38;5;241;43m122\u001b[39;49m\u001b[43m,\u001b[49m\u001b[43m \u001b[49m\u001b[38;5;241;43m37.3\u001b[39;49m\u001b[43m,\u001b[49m\u001b[43m \u001b[49m\u001b[38;5;241;43m38.3\u001b[39;49m\u001b[43m]\u001b[49m\u001b[43m)\u001b[49m\n\u001b[1;32m      3\u001b[0m berkeley_lon, berkeley_lat \u001b[38;5;241m=\u001b[39m \u001b[38;5;241m-\u001b[39m\u001b[38;5;241m122.2585\u001b[39m, \u001b[38;5;241m37.8719\u001b[39m\n\u001b[1;32m      4\u001b[0m stanford_lon, stanford_lat \u001b[38;5;241m=\u001b[39m \u001b[38;5;241m-\u001b[39m\u001b[38;5;241m122.1661\u001b[39m, \u001b[38;5;241m37.4241\u001b[39m\n",
      "Cell \u001b[0;32mIn[54], line 11\u001b[0m, in \u001b[0;36mmap_background\u001b[0;34m(label, extent)\u001b[0m\n\u001b[1;32m      1\u001b[0m \u001b[38;5;28;01mdef\u001b[39;00m\u001b[38;5;250m \u001b[39m\u001b[38;5;21mmap_background\u001b[39m(label\u001b[38;5;241m=\u001b[39m\u001b[38;5;28;01mFalse\u001b[39;00m, extent\u001b[38;5;241m=\u001b[39m[\u001b[38;5;241m-\u001b[39m\u001b[38;5;241m100\u001b[39m, \u001b[38;5;241m0\u001b[39m, \u001b[38;5;241m0\u001b[39m, \u001b[38;5;241m60\u001b[39m]):\n\u001b[1;32m      2\u001b[0m   \u001b[38;5;66;03m# A helpder function for creating the map background.\u001b[39;00m\n\u001b[1;32m      3\u001b[0m   \u001b[38;5;66;03m# INPUT:\u001b[39;00m\n\u001b[0;32m   (...)\u001b[0m\n\u001b[1;32m      7\u001b[0m   \u001b[38;5;66;03m# OUTPUT:\u001b[39;00m\n\u001b[1;32m      8\u001b[0m   \u001b[38;5;66;03m# Matplotlib AXES object\u001b[39;00m\n\u001b[1;32m     10\u001b[0m   plt\u001b[38;5;241m.\u001b[39mfigure(figsize \u001b[38;5;241m=\u001b[39m (\u001b[38;5;241m20\u001b[39m, \u001b[38;5;241m10\u001b[39m))\n\u001b[0;32m---> 11\u001b[0m   ax \u001b[38;5;241m=\u001b[39m \u001b[43mplt\u001b[49m\u001b[38;5;241;43m.\u001b[39;49m\u001b[43maxes\u001b[49m\u001b[43m(\u001b[49m\u001b[43mprojection\u001b[49m\u001b[38;5;241;43m=\u001b[39;49m\u001b[43mccrs\u001b[49m\u001b[38;5;241;43m.\u001b[39;49m\u001b[43mPlateCarree\u001b[49m\u001b[43m(\u001b[49m\u001b[43m)\u001b[49m\u001b[43m)\u001b[49m\n\u001b[1;32m     12\u001b[0m   ax\u001b[38;5;241m.\u001b[39mcoastlines()\n\u001b[1;32m     13\u001b[0m   ax\u001b[38;5;241m.\u001b[39mset_extent(extent)\n",
      "File \u001b[0;32m~/Documents/Columbia/Climate ML/Climate_ML/.venv/lib/python3.13/site-packages/matplotlib/pyplot.py:1345\u001b[0m, in \u001b[0;36maxes\u001b[0;34m(arg, **kwargs)\u001b[0m\n\u001b[1;32m   1343\u001b[0m \u001b[38;5;28;01mif\u001b[39;00m arg \u001b[38;5;129;01mis\u001b[39;00m \u001b[38;5;28;01mNone\u001b[39;00m:\n\u001b[1;32m   1344\u001b[0m     \u001b[38;5;28;01mif\u001b[39;00m pos \u001b[38;5;129;01mis\u001b[39;00m \u001b[38;5;28;01mNone\u001b[39;00m:\n\u001b[0;32m-> 1345\u001b[0m         \u001b[38;5;28;01mreturn\u001b[39;00m \u001b[43mfig\u001b[49m\u001b[38;5;241;43m.\u001b[39;49m\u001b[43madd_subplot\u001b[49m\u001b[43m(\u001b[49m\u001b[38;5;241;43m*\u001b[39;49m\u001b[38;5;241;43m*\u001b[39;49m\u001b[43mkwargs\u001b[49m\u001b[43m)\u001b[49m\n\u001b[1;32m   1346\u001b[0m     \u001b[38;5;28;01melse\u001b[39;00m:\n\u001b[1;32m   1347\u001b[0m         \u001b[38;5;28;01mreturn\u001b[39;00m fig\u001b[38;5;241m.\u001b[39madd_axes(pos, \u001b[38;5;241m*\u001b[39m\u001b[38;5;241m*\u001b[39mkwargs)\n",
      "File \u001b[0;32m~/Documents/Columbia/Climate ML/Climate_ML/.venv/lib/python3.13/site-packages/matplotlib/figure.py:768\u001b[0m, in \u001b[0;36mFigureBase.add_subplot\u001b[0;34m(self, *args, **kwargs)\u001b[0m\n\u001b[1;32m    766\u001b[0m         args \u001b[38;5;241m=\u001b[39m \u001b[38;5;28mtuple\u001b[39m(\u001b[38;5;28mmap\u001b[39m(\u001b[38;5;28mint\u001b[39m, \u001b[38;5;28mstr\u001b[39m(args[\u001b[38;5;241m0\u001b[39m])))\n\u001b[1;32m    767\u001b[0m     projection_class, pkw \u001b[38;5;241m=\u001b[39m \u001b[38;5;28mself\u001b[39m\u001b[38;5;241m.\u001b[39m_process_projection_requirements(\u001b[38;5;241m*\u001b[39m\u001b[38;5;241m*\u001b[39mkwargs)\n\u001b[0;32m--> 768\u001b[0m     ax \u001b[38;5;241m=\u001b[39m \u001b[43mprojection_class\u001b[49m\u001b[43m(\u001b[49m\u001b[38;5;28;43mself\u001b[39;49m\u001b[43m,\u001b[49m\u001b[43m \u001b[49m\u001b[38;5;241;43m*\u001b[39;49m\u001b[43margs\u001b[49m\u001b[43m,\u001b[49m\u001b[43m \u001b[49m\u001b[38;5;241;43m*\u001b[39;49m\u001b[38;5;241;43m*\u001b[39;49m\u001b[43mpkw\u001b[49m\u001b[43m)\u001b[49m\n\u001b[1;32m    769\u001b[0m     key \u001b[38;5;241m=\u001b[39m (projection_class, pkw)\n\u001b[1;32m    770\u001b[0m \u001b[38;5;28;01mreturn\u001b[39;00m \u001b[38;5;28mself\u001b[39m\u001b[38;5;241m.\u001b[39m_add_axes_internal(ax, key)\n",
      "File \u001b[0;32m~/Documents/Columbia/Climate ML/Climate_ML/.venv/lib/python3.13/site-packages/cartopy/mpl/geoaxes.py:407\u001b[0m, in \u001b[0;36mGeoAxes.__init__\u001b[0;34m(self, *args, **kwargs)\u001b[0m\n\u001b[1;32m    403\u001b[0m     \u001b[38;5;28;01mraise\u001b[39;00m \u001b[38;5;167;01mValueError\u001b[39;00m(\u001b[38;5;124m\"\u001b[39m\u001b[38;5;124mA GeoAxes can only be created with a \u001b[39m\u001b[38;5;124m\"\u001b[39m\n\u001b[1;32m    404\u001b[0m                      \u001b[38;5;124m\"\u001b[39m\u001b[38;5;124mprojection of type cartopy.crs.Projection\u001b[39m\u001b[38;5;124m\"\u001b[39m)\n\u001b[1;32m    405\u001b[0m \u001b[38;5;28mself\u001b[39m\u001b[38;5;241m.\u001b[39mprojection \u001b[38;5;241m=\u001b[39m projection\n\u001b[0;32m--> 407\u001b[0m \u001b[38;5;28;43msuper\u001b[39;49m\u001b[43m(\u001b[49m\u001b[43m)\u001b[49m\u001b[38;5;241;43m.\u001b[39;49m\u001b[38;5;21;43m__init__\u001b[39;49m\u001b[43m(\u001b[49m\u001b[38;5;241;43m*\u001b[39;49m\u001b[43margs\u001b[49m\u001b[43m,\u001b[49m\u001b[43m \u001b[49m\u001b[38;5;241;43m*\u001b[39;49m\u001b[38;5;241;43m*\u001b[39;49m\u001b[43mkwargs\u001b[49m\u001b[43m)\u001b[49m\n\u001b[1;32m    408\u001b[0m \u001b[38;5;28mself\u001b[39m\u001b[38;5;241m.\u001b[39mimg_factories \u001b[38;5;241m=\u001b[39m []\n\u001b[1;32m    409\u001b[0m \u001b[38;5;28mself\u001b[39m\u001b[38;5;241m.\u001b[39m_done_img_factory \u001b[38;5;241m=\u001b[39m \u001b[38;5;28;01mFalse\u001b[39;00m\n",
      "File \u001b[0;32m~/Documents/Columbia/Climate ML/Climate_ML/.venv/lib/python3.13/site-packages/matplotlib/axes/_base.py:696\u001b[0m, in \u001b[0;36m_AxesBase.__init__\u001b[0;34m(self, fig, facecolor, frameon, sharex, sharey, label, xscale, yscale, box_aspect, forward_navigation_events, *args, **kwargs)\u001b[0m\n\u001b[1;32m    693\u001b[0m \u001b[38;5;28mself\u001b[39m\u001b[38;5;241m.\u001b[39mset_axisbelow(mpl\u001b[38;5;241m.\u001b[39mrcParams[\u001b[38;5;124m'\u001b[39m\u001b[38;5;124maxes.axisbelow\u001b[39m\u001b[38;5;124m'\u001b[39m])\n\u001b[1;32m    695\u001b[0m \u001b[38;5;28mself\u001b[39m\u001b[38;5;241m.\u001b[39m_rasterization_zorder \u001b[38;5;241m=\u001b[39m \u001b[38;5;28;01mNone\u001b[39;00m\n\u001b[0;32m--> 696\u001b[0m \u001b[38;5;28;43mself\u001b[39;49m\u001b[38;5;241;43m.\u001b[39;49m\u001b[43mclear\u001b[49m\u001b[43m(\u001b[49m\u001b[43m)\u001b[49m\n\u001b[1;32m    698\u001b[0m \u001b[38;5;66;03m# funcs used to format x and y - fall back on major formatters\u001b[39;00m\n\u001b[1;32m    699\u001b[0m \u001b[38;5;28mself\u001b[39m\u001b[38;5;241m.\u001b[39mfmt_xdata \u001b[38;5;241m=\u001b[39m \u001b[38;5;28;01mNone\u001b[39;00m\n",
      "File \u001b[0;32m~/Documents/Columbia/Climate ML/Climate_ML/.venv/lib/python3.13/site-packages/cartopy/mpl/geoaxes.py:587\u001b[0m, in \u001b[0;36mGeoAxes.clear\u001b[0;34m(self)\u001b[0m\n\u001b[1;32m    585\u001b[0m \u001b[38;5;250m\u001b[39m\u001b[38;5;124;03m\"\"\"Clear the current Axes and add boundary lines.\"\"\"\u001b[39;00m\n\u001b[1;32m    586\u001b[0m result \u001b[38;5;241m=\u001b[39m \u001b[38;5;28msuper\u001b[39m()\u001b[38;5;241m.\u001b[39mclear()\n\u001b[0;32m--> 587\u001b[0m \u001b[38;5;28;43mself\u001b[39;49m\u001b[38;5;241;43m.\u001b[39;49m\u001b[43m__clear\u001b[49m\u001b[43m(\u001b[49m\u001b[43m)\u001b[49m\n\u001b[1;32m    588\u001b[0m \u001b[38;5;28;01mreturn\u001b[39;00m result\n",
      "File \u001b[0;32m~/Documents/Columbia/Climate ML/Climate_ML/.venv/lib/python3.13/site-packages/cartopy/mpl/geoaxes.py:575\u001b[0m, in \u001b[0;36mGeoAxes.__clear\u001b[0;34m(self)\u001b[0m\n\u001b[1;32m    572\u001b[0m \u001b[38;5;28mself\u001b[39m\u001b[38;5;241m.\u001b[39m_tight \u001b[38;5;241m=\u001b[39m \u001b[38;5;28;01mTrue\u001b[39;00m\n\u001b[1;32m    573\u001b[0m \u001b[38;5;28mself\u001b[39m\u001b[38;5;241m.\u001b[39mset_aspect(\u001b[38;5;124m'\u001b[39m\u001b[38;5;124mequal\u001b[39m\u001b[38;5;124m'\u001b[39m)\n\u001b[0;32m--> 575\u001b[0m \u001b[38;5;28;43mself\u001b[39;49m\u001b[38;5;241;43m.\u001b[39;49m\u001b[43m_boundary\u001b[49m\u001b[43m(\u001b[49m\u001b[43m)\u001b[49m\n\u001b[1;32m    577\u001b[0m \u001b[38;5;66;03m# XXX consider a margin - but only when the map is not global...\u001b[39;00m\n\u001b[1;32m    578\u001b[0m \u001b[38;5;66;03m# self._xmargin = 0.15\u001b[39;00m\n\u001b[1;32m    579\u001b[0m \u001b[38;5;66;03m# self._ymargin = 0.15\u001b[39;00m\n\u001b[1;32m    581\u001b[0m \u001b[38;5;28mself\u001b[39m\u001b[38;5;241m.\u001b[39mdataLim\u001b[38;5;241m.\u001b[39mintervalx \u001b[38;5;241m=\u001b[39m \u001b[38;5;28mself\u001b[39m\u001b[38;5;241m.\u001b[39mprojection\u001b[38;5;241m.\u001b[39mx_limits\n",
      "File \u001b[0;32m~/Documents/Columbia/Climate ML/Climate_ML/.venv/lib/python3.13/site-packages/cartopy/mpl/geoaxes.py:1545\u001b[0m, in \u001b[0;36mGeoAxes._boundary\u001b[0;34m(self)\u001b[0m\n\u001b[1;32m   1542\u001b[0m trans_path \u001b[38;5;241m=\u001b[39m proj_to_data\u001b[38;5;241m.\u001b[39mtransform_path(path)\n\u001b[1;32m   1544\u001b[0m \u001b[38;5;66;03m# Set the boundary - we can make use of the rectangular clipping.\u001b[39;00m\n\u001b[0;32m-> 1545\u001b[0m \u001b[38;5;28;43mself\u001b[39;49m\u001b[38;5;241;43m.\u001b[39;49m\u001b[43mset_boundary\u001b[49m\u001b[43m(\u001b[49m\u001b[43mtrans_path\u001b[49m\u001b[43m)\u001b[49m\n\u001b[1;32m   1547\u001b[0m \u001b[38;5;66;03m# Attach callback events for when the xlim or ylim are changed. This\u001b[39;00m\n\u001b[1;32m   1548\u001b[0m \u001b[38;5;66;03m# is what triggers the patches to be re-clipped at draw time.\u001b[39;00m\n\u001b[1;32m   1549\u001b[0m \u001b[38;5;28mself\u001b[39m\u001b[38;5;241m.\u001b[39mcallbacks\u001b[38;5;241m.\u001b[39mconnect(\u001b[38;5;124m'\u001b[39m\u001b[38;5;124mxlim_changed\u001b[39m\u001b[38;5;124m'\u001b[39m, _trigger_patch_reclip)\n",
      "File \u001b[0;32m~/Documents/Columbia/Climate ML/Climate_ML/.venv/lib/python3.13/site-packages/cartopy/mpl/geoaxes.py:1570\u001b[0m, in \u001b[0;36mGeoAxes.set_boundary\u001b[0;34m(self, path, transform)\u001b[0m\n\u001b[1;32m   1567\u001b[0m \u001b[38;5;28;01mif\u001b[39;00m transform \u001b[38;5;129;01mis\u001b[39;00m \u001b[38;5;28;01mNone\u001b[39;00m:\n\u001b[1;32m   1568\u001b[0m     transform \u001b[38;5;241m=\u001b[39m \u001b[38;5;28mself\u001b[39m\u001b[38;5;241m.\u001b[39mtransData\n\u001b[0;32m-> 1570\u001b[0m \u001b[38;5;28;01mif\u001b[39;00m \u001b[38;5;28misinstance\u001b[39m(transform, \u001b[43mcartopy\u001b[49m\u001b[38;5;241;43m.\u001b[39;49m\u001b[43mcrs\u001b[49m\u001b[38;5;241m.\u001b[39mCRS):\n\u001b[1;32m   1571\u001b[0m     transform \u001b[38;5;241m=\u001b[39m transform\u001b[38;5;241m.\u001b[39m_as_mpl_transform(\u001b[38;5;28mself\u001b[39m)\n\u001b[1;32m   1573\u001b[0m \u001b[38;5;66;03m# Attach the original path to the patches. This will be used each time\u001b[39;00m\n\u001b[1;32m   1574\u001b[0m \u001b[38;5;66;03m# a new clipped path is calculated.\u001b[39;00m\n",
      "\u001b[0;31mAttributeError\u001b[0m: module 'cartopy' has no attribute 'crs'"
     ]
    },
    {
     "data": {
      "text/plain": [
       "<Figure size 2000x1000 with 0 Axes>"
      ]
     },
     "metadata": {},
     "output_type": "display_data"
    }
   ],
   "source": [
    "ax = map_background(extent=[-122.8, -122, 37.3, 38.3])\n",
    "\n",
    "berkeley_lon, berkeley_lat = -122.2585, 37.8719\n",
    "stanford_lon, stanford_lat = -122.1661, 37.4241\n",
    "\n",
    "# plot the two universities as blue dots\n",
    "ax.plot([berkeley_lon, stanford_lon], [berkeley_lat, stanford_lat],\n",
    "         color='blue', linewidth=2, marker='.')\n",
    "ax.text(berkeley_lon + 0.16, berkeley_lat - 0.02, 'UC Berkeley',\n",
    "         horizontalalignment='right')\n",
    "ax.text(stanford_lon + 0.02, stanford_lat - 0.02, 'Stanford',\n",
    "         horizontalalignment='left')"
   ]
  },
  {
   "cell_type": "markdown",
   "metadata": {
    "id": "KVIs15GZAe-3"
   },
   "source": [
    "\\\\\n",
    "\n",
    "---\n",
    "\n",
    "\\\\\n",
    "\n",
    "## 2.2 Working with xarray data.\n",
    "\n",
    "+ [Xarray documentation](https://xarray.pydata.org/en/stable/user-guide/terminology.html).\n",
    "+ Read more about [data](https://earth-env-data-science.github.io/lectures/data.html).\n",
    "\n",
    "![dataset-diagram.png](data:image/png;base64,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)\n"
   ]
  },
  {
   "cell_type": "markdown",
   "metadata": {
    "id": "uhv9IYIkAFSH"
   },
   "source": [
    "Even though the graph above has nothing to with the paper, the diagram (taken from x-array documentation website) illustrates the structure of xarray data (a Dataset in this case) works. In this example, we have the **axis** (x, y, t), **data** (temperature, precipitation, y, x). The latitude (y) and longitude (x) label the points along the dimensions, so they are the 'coordinate_data', while temperature and precipitation are 'actual' variables in a dataset. The latitude and longitude are 2D data in this case because the example used map projection. There can be an infinite amount of variables, but it would be unwise to have lots of axes and coordinates."
   ]
  },
  {
   "cell_type": "markdown",
   "metadata": {},
   "source": [
    "### 2.2.1 Explore the dataset of hurricanes and related systems"
   ]
  },
  {
   "cell_type": "markdown",
   "metadata": {},
   "source": [
    "Run the code below to see an example of information that can be obtained from the original data.\\\n",
    "Read the output of the following code chunks to see some examples of operations we can carry out on the dataset."
   ]
  },
  {
   "cell_type": "code",
   "execution_count": null,
   "metadata": {
    "colab": {
     "base_uri": "https://localhost:8080/"
    },
    "id": "p_v7edWLZIc_",
    "outputId": "f14411d5-1b20-40e6-f963-65b7aa670418"
   },
   "outputs": [],
   "source": [
    "tks = xr.open_dataset('data/NA_data.nc', engine=\"netcdf4\", decode_times=False)\n",
    "\n",
    "## Print the tks to take a peek at what's actually in the dataset.\n",
    "print(tks)"
   ]
  },
  {
   "cell_type": "markdown",
   "metadata": {
    "id": "mfKI6JWGWoBr"
   },
   "source": [
    "All the **coordinates** and **data variables** must align along the dimensions. **Attributes**, however, doesn't have to have shapes that aligned with at least one of the axes. It serves as a more auxiliary role in the dataset and provide other information that might be helpful.\\\n",
    "To obtain any variable from the dataset, for example 'xxx', use ***tks.xxx***."
   ]
  },
  {
   "cell_type": "code",
   "execution_count": null,
   "metadata": {},
   "outputs": [],
   "source": [
    "# for example, Storm_speed\n",
    "tks.landfall"
   ]
  },
  {
   "cell_type": "code",
   "execution_count": null,
   "metadata": {
    "colab": {
     "base_uri": "https://localhost:8080/"
    },
    "id": "vZZJKKxbWdWO",
    "outputId": "f666d403-e9fb-44b2-c3e1-f29a21257ab3"
   },
   "outputs": [],
   "source": [
    "## how many tracks in total, this is the same as the length of the dimension 'storm'\n",
    "storm_num = tks.dims['storm']\n",
    "\n",
    "## Note that the dimension 'quadrant' is often not used, which can be\n",
    "## dropped if wanted by tks.drop_dims(\"quadrant\")\n",
    "print(f\"\\nDimension of the dataset is {dict(tks.dims)}\")\n",
    "print(f\"\\nIn total, there are {storm_num} track records.\")\n",
    "print(f\"\\nThe attributes of this dataset are:\\n {list(tks.attrs.keys())}\")\n",
    "\n",
    "\n",
    "## starting and ending season (the same as year)\n",
    "min_year = np.array(np.min(list(tks.season)), dtype=int)\n",
    "max_year = np.array(np.max(list(tks.season)), dtype=int)\n",
    "\n",
    "print(f\"\\nTrack records start in year {min_year} and ends in year {max_year}\")\n",
    "\n",
    "## Print all the variables in a list.\n",
    "print('\\nAll variables in this dataset:')\n",
    "print(list(tks.keys()))\n",
    "\n",
    "\n",
    "## Print a sentence that contians some summary information.\n",
    "storm_1 = tks.sel(storm=2000) # notice that the first storm starts with 0 not 1\n",
    "name = str(storm_1.name.values)[2:-1] # use this trick to obtain the name string\n",
    "sid = str(storm_1.sid.values,'UTF-8')\n",
    "print(f\"\\nThe 2001st hurricane, named {name}, has a record of {int(storm_1.numobs)} \\\n",
    "observations with sid {sid} in year {int(storm_1.season)}.\")"
   ]
  },
  {
   "cell_type": "markdown",
   "metadata": {
    "id": "L_X0w7amAa2l"
   },
   "source": [
    "\\\\\n",
    "\n",
    "---\n",
    "\n",
    "\\\\\n",
    "\n",
    "## 2.3 Visualizing a track or group of tracks\n",
    "\n",
    "We use asterisk and X to denote the birth and death points of a track."
   ]
  },
  {
   "cell_type": "code",
   "execution_count": null,
   "metadata": {
    "id": "_SPDJtQQ_g99"
   },
   "outputs": [],
   "source": [
    "# These are helper functions to conveniently plot one single track.\n",
    "def get_lon_lat(storm):\n",
    "  lon_lst = storm.lon.values\n",
    "  lat_lst = storm.lat.values\n",
    "  return lon_lst[~np.isnan(lon_lst)], lat_lst[~np.isnan(lat_lst)]\n",
    "\n",
    "# !!! Note that even though it's a convention to place latitude before longitude,\n",
    "# to work with cartopy projection, longitude MUST be placed first. !!!\n",
    "def plot_one_track(ax, storm, color='blue', all_track=True, marker_color='black'):\n",
    "  # INPUT:\n",
    "  # ax: Matplotlib axes object\n",
    "  # storm: a Xarray DATASET object (this can be adjusted if desired)\n",
    "  # all_track: plot the whole track or just the origin\n",
    "\n",
    "  # OUTPUT:\n",
    "  # None\n",
    "\n",
    "  lon_lst, lat_lst = get_lon_lat(storm)\n",
    "  year = storm.season.values\n",
    "  if all_track:\n",
    "    ax.plot(lon_lst, lat_lst, '-o', color=color, linewidth=2, markersize=3) # marker='.'\n",
    "    ax.plot(lon_lst[-1], lat_lst[-1], color=marker_color, marker='x', markersize=10)\n",
    "  ax.plot(lon_lst[0], lat_lst[0], color=marker_color, marker='*', markersize=10)\n",
    "  ax.text(lon_lst[0], lat_lst[0]-2, str(storm.name.values)[2:-1], horizontalalignment='center')\n"
   ]
  },
  {
   "cell_type": "code",
   "execution_count": null,
   "metadata": {},
   "outputs": [],
   "source": [
    "# print(tks.landfall.values[0]) \n",
    "storms = tks.where(tks.season>=2014, drop=True)\n",
    "storm_ids = []\n",
    "storm_idx = []\n",
    "\n",
    "for i in range(storms.dims['storm']):\n",
    "    landfall = storms.landfall.values[i]\n",
    "    sid = storms.sid.values[i]\n",
    "    if 0 in landfall:\n",
    "        storm_ids.append(sid)\n",
    "        storm_idx.append(i)"
   ]
  },
  {
   "cell_type": "code",
   "execution_count": null,
   "metadata": {},
   "outputs": [],
   "source": [
    "mask = storms['sid'].isin(storm_ids)\n",
    "filtered = storms.where(mask, drop=True)"
   ]
  },
  {
   "cell_type": "markdown",
   "metadata": {
    "id": "pnhZv_0hyrnE"
   },
   "source": [
    "\n",
    "## 2.3.1 Visualize all tracks in a year\n"
   ]
  },
  {
   "cell_type": "markdown",
   "metadata": {
    "id": "iObLQh89n1Ol"
   },
   "source": [
    "Use function to visualize all tracks in year 2017 (or whichever year you choose on first line)"
   ]
  },
  {
   "cell_type": "code",
   "execution_count": null,
   "metadata": {
    "colab": {
     "base_uri": "https://localhost:8080/",
     "height": 894
    },
    "id": "Be7doK25w-Aq",
    "outputId": "69fae582-d4ca-4af0-cb2a-92102e2c57f2"
   },
   "outputs": [],
   "source": [
    "# year=2017 # Change this to see tracks from other years.\n",
    "# storms = tks.where(tks.season>=2014, drop=True) # select the hurricanes that happened in selected year\n",
    "# print(f\"There are {storms.dims['storm']} storms between 2014 and 2023 that made landfall.\\n\")\n",
    "storm_num = filtered.dims['storm']\n",
    "ax = map_background(extent=[-100, 0, 0, 60], label=True)\n",
    "\n",
    "for ind in range(storm_num):\n",
    "  storm = filtered.sel(storm=ind)\n",
    "  plot_one_track(ax, storm, color='orange')\n",
    "# plt.title(f\"Tracks in year {year}\")\n",
    "# plt.legend()"
   ]
  },
  {
   "cell_type": "markdown",
   "metadata": {
    "id": "MfKPVeyXosOr"
   },
   "source": [
    "\\\\\n",
    "\n",
    "---\n",
    "\n",
    "\\\\\n",
    "\n",
    "# Step 3: Analyze Tracks\n",
    "\n",
    "Here we use moment as a numerical characteristic of a track. [Ophelia (2005)](https://en.wikipedia.org/wiki/Hurricane_Ophelia_(2005)) is given as an example track."
   ]
  },
  {
   "cell_type": "markdown",
   "metadata": {
    "id": "wL7IcDLkBqKr"
   },
   "source": [
    "\n",
    "\n",
    "## 3.1 Define the moments of a track"
   ]
  },
  {
   "cell_type": "markdown",
   "metadata": {
    "id": "_yH_XLRnqVu-"
   },
   "source": [
    "Below codes plot ONE track and its moments based on the paper's idea.\n",
    "\n",
    "So, what we want to do here is to find a summary statistics for the track. Here the method below calculates the weighted first and second moments of a track, which would ouput a 5-entry vector which can be used in clustering and analysis purpose.\n",
    "\n",
    "M1 here stands for the first moment. When the weights $w$ are set to 1, it simply calculating the means of the longitude and latitude vectors. Changing the weights to other variables, such as wind speed, storm speed, temperatures, etc. should result in different clustering. In the paper, setting all the weights to 1 is used.\n",
    "\n",
    "M2 stands for the second moment. When the weights are 1, it is calculating the variances and covariance of longitude and latitude vectors of a given track.\n",
    "\n",
    "$r$ is a two-dimensional vector that corresponds to $(x,y)$, i.e., longitude and latitude.\n",
    "\n",
    "See [Nakamura et al (2009)](https://journals.ametsoc.org/configurable/content/journals$002fclim$002f22$002f20$002f2009jcli2828.1.xml?t:ac=journals%24002fclim%24002f22%24002f20%24002f2009jcli2828.1.xml) for more details on the notation.\n",
    "\n",
    "$$\n",
    "\\begin{aligned}\n",
    "\\mathbf{M 1}&=\\frac{1}{A} \\int w(\\mathbf{r}) \\mathbf{r} d x d y=\\frac{1}{\\sum_{i=1}^{n} w\\left(r_{i}\\right)} \\sum_{i=1}^{n} w\\left(\\mathbf{r}_{i}\\right) \\mathbf{r}_{i} \\\\\n",
    "\\mathbf{M 2} &=\\frac{1}{A} \\int w(\\mathbf{r})(\\mathbf{r}-\\mathbf{M 1})^{2} d x d y\n",
    "=\\frac{1}{\\sum_{i=1}^{n} w\\left(r_{i}\\right)} \\sum_{i=1}^{n} w\\left(\\mathbf{r}_{i}\\right)\\left(\\mathbf{r}_{i}-\\mathbf{M 1}_{i}\\right)^{2}\n",
    "\\end{aligned}\n",
    "$$\n"
   ]
  },
  {
   "cell_type": "markdown",
   "metadata": {
    "id": "FtzuyRXXBtZ1"
   },
   "source": [
    "## 3.1.1 Function to calculate moment for a system\n",
    "\n",
    "This function outputs a length-5 vector that summaries the moments of a track as specified in the above description.\n"
   ]
  },
  {
   "cell_type": "code",
   "execution_count": null,
   "metadata": {
    "id": "Cddoe0show4e"
   },
   "outputs": [],
   "source": [
    "def get_moments(storm):\n",
    "  # A function to calculate the track moments given a storm\n",
    "  # OUTPUT:\n",
    "  # X-centroid, Y-centroid, X_var, Y_var, XY_var\n",
    "\n",
    "  # Note that:\n",
    "  # In this case, no weights are set. In other words, all weights are 1.\n",
    "  # A weight variable would need to be added in order to explore other weights\n",
    "\n",
    "  lon_lst, lat_lst = get_lon_lat(storm)\n",
    "  # If the track only has one point, there is no point in calculating the moments\n",
    "  if len(lon_lst)<= 1: return None\n",
    "      \n",
    "  # M1 (first moment = mean). \n",
    "  # No weights applied\n",
    "  lon_weighted, lat_weighted = np.mean(lon_lst), np.mean(lat_lst)\n",
    "    \n",
    "  # M2 (second moment = variance of lat and of lon / covariance of lat to lon\n",
    "  # No weights applied\n",
    "  cv = np.ma.cov([lon_lst, lat_lst])\n",
    "    \n",
    "  return [lon_weighted, lat_weighted, cv[0, 0], cv[1, 1], cv[0, 1]]"
   ]
  },
  {
   "cell_type": "markdown",
   "metadata": {
    "id": "LDSafs-oCETJ"
   },
   "source": [
    "## 3.1.2 Calculate moments and visualize for one system"
   ]
  },
  {
   "cell_type": "code",
   "execution_count": null,
   "metadata": {
    "colab": {
     "base_uri": "https://localhost:8080/",
     "height": 854
    },
    "id": "FArr1LKlB8oc",
    "outputId": "7ebb4f21-a4b8-4bba-b2f5-d2b2802cbc01"
   },
   "outputs": [],
   "source": [
    "storm = tks.sel(storm=2000)\n",
    "lon_weighted, lat_weighted, lon_var, lat_var, xy_var = get_moments(storm)\n",
    "\n",
    "# Rotate the circle and calculate points on the circle\n",
    "# Set N larger to make the oval more precise and to consume more electricity\n",
    "N=1000\n",
    "t = np.linspace(0, 2 * np.pi, N)\n",
    "circle = [np.sqrt(lon_var) * np.cos(t), np.sqrt(lat_var) * np.sin(t)]\n",
    "_, R_rot = LA.eig(np.array([[lon_var, xy_var], [xy_var, lat_var]]))\n",
    "circle = np.dot(R_rot, circle)\n",
    "R_1, R_2 = circle[0, :] + lon_weighted, circle[1, :] + lat_weighted\n",
    "\n",
    "# Plot\n",
    "ax = map_background(extent=[-140, -50, 0, 50], label=True)\n",
    "plot_one_track(ax, storm)\n",
    "ax.plot(R_1, R_2, '-', color='black', linewidth=1)\n",
    "ax.plot([circle[0,0], circle[0,int(N/2)]]+lon_weighted,\n",
    "        [circle[1,0], circle[1,int(N/2)]]+lat_weighted, '-gh')\n",
    "ax.plot([circle[0,int(N/4)], circle[0,int(N*3/4)]]+lon_weighted,\n",
    "        [circle[1,int(N/4)], circle[1,int(N*3/4)]]+lat_weighted, '-gh')"
   ]
  },
  {
   "cell_type": "code",
   "execution_count": 41,
   "metadata": {},
   "outputs": [],
   "source": [
    "from storm_data import storm_time_to_datetime\n",
    "import pandas as pd\n",
    "\n",
    "# example is just a single storm to test code\n",
    "# Harvey\n",
    "example = filtered.sel(storm=20)\n",
    "lon_lst, lat_lst = get_lon_lat(example)\n",
    "\n",
    "def get_timestamps(storm):\n",
    "    timestamps = []\n",
    "\n",
    "    storm_times = storm.time.values\n",
    "\n",
    "    for time in storm_times:\n",
    "        if np.isnan(time):\n",
    "            timestamps.append(np.nan)\n",
    "        else:\n",
    "            timestamps.append(pd.Timestamp(storm_time_to_datetime(time)))\n",
    "    return timestamps\n",
    "\n",
    "example_times = get_timestamps(example)\n"
   ]
  },
  {
   "cell_type": "code",
   "execution_count": null,
   "metadata": {},
   "outputs": [],
   "source": [
    "outages = pd.read_csv('data/eaglei_outages_2017.csv')\n",
    "outages['fips_code'] = ['0' + str(code) if len(str(code)) < 5 else str(code) for code in outages['fips_code']]\n",
    "outages['run_start_time'] = pd.to_datetime(outages['run_start_time'], format = '%Y-%m-%d %H:%M:%S')\n",
    "\n",
    "outages.head()"
   ]
  },
  {
   "cell_type": "code",
   "execution_count": null,
   "metadata": {},
   "outputs": [],
   "source": [
    "# dates where storm occurs\n",
    "example_times = [t for t in example_times if not pd.isna(t)]\n",
    "\n",
    "# pull day from datetime col (to reduce data by day)\n",
    "outages['day'] = outages['run_start_time'].dt.date\n",
    "\n",
    "# filter outages to those that occur at same time as storm\n",
    "filtered_outages = outages[outages.day.isin([d.date() for d in example_times])]\n",
    "\n",
    "filtered_outages = filtered_outages.drop(columns = 'run_start_time')\n",
    "filtered_outages = filtered_outages.groupby(by = ['fips_code', 'county', 'state', 'day']).max()\n",
    "filtered_outages = filtered_outages.reset_index()\n",
    "\n",
    "filtered_outages.head()"
   ]
  },
  {
   "cell_type": "code",
   "execution_count": null,
   "metadata": {},
   "outputs": [],
   "source": [
    "# construct df of the example storm\n",
    "example_storm = pd.DataFrame({'lat': lat_lst, 'lon': lon_lst, 'datetime':example_times})\n",
    "\n",
    "example_storm['day'] = example_storm['datetime'].dt.date\n",
    "example_storm = example_storm.drop(columns = 'datetime')\n",
    "\n",
    "# pull initial lat/lon per day (group by min)\n",
    "example_storm = example_storm.groupby(by = ['day']).min()\n",
    "example_storm = example_storm.reset_index()\n",
    "\n",
    "example_storm.head()"
   ]
  },
  {
   "cell_type": "code",
   "execution_count": null,
   "metadata": {},
   "outputs": [],
   "source": [
    "# merge with number of customers to figure out % outages\n",
    "customers = pd.read_csv('data/MCC.csv')\n",
    "\n",
    "fips = ['0' + str(code) if len(str(code)) < 5 else str(code) for code in customers['County_FIPS']]\n",
    "customers['fips_code'] = fips\n",
    "customers = customers.drop(columns = 'County_FIPS')\n",
    "\n",
    "merged = filtered_outages.merge(customers, on = 'fips_code', how = 'left')\n",
    "merged['pct_out'] = merged['customers_out'] / merged.Customers * 100\n",
    "\n",
    "merged = merged.merge(example_storm, on = ['day'], how = 'right')\n",
    "merged.head()"
   ]
  },
  {
   "cell_type": "code",
   "execution_count": null,
   "metadata": {},
   "outputs": [],
   "source": [
    "from urllib.request import urlopen\n",
    "import json\n",
    "\n",
    "# fips code shape file\n",
    "with urlopen('https://raw.githubusercontent.com/plotly/datasets/master/geojson-counties-fips.json') as response:\n",
    "    counties = json.load(response)"
   ]
  },
  {
   "cell_type": "code",
   "execution_count": null,
   "metadata": {},
   "outputs": [],
   "source": [
    "# plot choropleth map of the outages\n",
    "# still need to figure out how to layer scattergeo on same plot/slide step\n",
    "days = list(example_storm.day.unique())\n",
    "\n",
    "fig = go.Figure()\n",
    "\n",
    "for i in range(len(days)):\n",
    "#   slice data per day\n",
    "    day = days[i]\n",
    "    df_slice = merged.loc[merged['day']==day]\n",
    "#   add a trace for each day of data\n",
    "    fig.add_trace(\n",
    "        go.Choropleth(visible=False,\n",
    "        geojson=counties,\n",
    "        locations=df_slice['fips_code'], \n",
    "        z = df_slice['pct_out'],\n",
    "        text=df_slice['county'],\n",
    "        zmin = 0, zmax = 30\n",
    "    ))\n",
    "    # fig.add_trace(\n",
    "    #     go.Scattergeo(lat = df_slice.lat, lon = df_slice.lon, visible=False\n",
    "    # ))\n",
    "\n",
    "# Create and add slider\n",
    "steps = []\n",
    "for i in range(len(fig.data)):\n",
    "    step = dict(\n",
    "        method=\"update\",\n",
    "        args=[{\"visible\": [False] * len(fig.data)},\n",
    "              {\"title\": \"Slider switched to step: \" + str(i)}],  # layout attribute\n",
    "    )\n",
    "    step[\"args\"][0][\"visible\"][i] = True  # Toggle i'th trace to \"visible\"\n",
    "    steps.append(step)\n",
    "\n",
    "sliders = [dict(\n",
    "    active=10,\n",
    "    currentvalue={'prefix': 'Date: '},\n",
    "    pad={'b': 50, 'l': 50},\n",
    "    steps=steps\n",
    ")]\n",
    "\n",
    "fig.update_layout(\n",
    "    sliders=sliders\n",
    ")\n",
    "\n",
    "# make 1st trace visible\n",
    "fig.data[0].visible = True\n",
    "\n",
    "fig.update_geos(scope='usa')\n",
    "fig.update_layout(margin={\"r\":0,\"t\":0,\"l\":0,\"b\":1}, width = 800, height = 600)\n",
    "\n",
    "for i, date in enumerate(days):\n",
    "    fig['layout']['sliders'][0]['steps'][i]['label']=date.strftime('%b %d')\n",
    "\n",
    "fig.show()"
   ]
  },
  {
   "cell_type": "markdown",
   "metadata": {
    "id": "tGwYhgyq_R-t"
   },
   "source": [
    "In this section, K-means clustering is carried out on the historical tracks with the idea adopted from the paper. As the data are different, nuances with the clustering results are expected."
   ]
  },
  {
   "cell_type": "code",
   "execution_count": null,
   "metadata": {
    "colab": {
     "base_uri": "https://localhost:8080/"
    },
    "id": "MLb54nms_NUm",
    "outputId": "de81c631-5fbf-40d7-da6a-6f28592bc68a"
   },
   "outputs": [],
   "source": [
    "# It takes a moment to calculate the moments.\n",
    "moment_lst = [get_moments(tks.sel(storm=i)) for i in range(tks.dims['storm'])\n",
    "              if get_moments(tks.sel(storm=i))]\n",
    "print(np.shape(moment_lst))\n",
    "print(f\"There are {tks.dims['storm']-np.shape(moment_lst)[0]} tracks that have length less than 1.\")"
   ]
  },
  {
   "cell_type": "markdown",
   "metadata": {},
   "source": [
    "### 3.2.1 Find inertia values to determine the right number of clusters"
   ]
  },
  {
   "cell_type": "markdown",
   "metadata": {
    "id": "iRMR73HpNXdD"
   },
   "source": [
    "Run the clustering for a range of cluster numbers and extract the interia value\n",
    "\n",
    "Inertia values from sklearn are evaluated with the \"elbow method\" to determine the optimal value of the clusters.\\\n",
    "Inertia, or cost, is calculated as the sum of squared distances of samples to their closest cluster center, weighted by the sample weights if provided. See the documentation for [sklearn.cluster.KMeans](https://scikit-learn.org/stable/modules/generated/sklearn.cluster.KMeans.html) for more details."
   ]
  },
  {
   "cell_type": "code",
   "execution_count": null,
   "metadata": {
    "colab": {
     "base_uri": "https://localhost:8080/",
     "height": 489
    },
    "id": "UYr_ehzANpjP",
    "outputId": "30c90d50-22ae-4f66-9a60-c3b898d1569c"
   },
   "outputs": [],
   "source": [
    "sum_of_squares = []\n",
    "K = range(1, 15)\n",
    "for k in K:\n",
    "    km = k_means(moment_lst, n_clusters=k)\n",
    "    sum_of_squares.append(km[2])\n",
    "plt.plot(K, sum_of_squares, 'bx-')\n",
    "plt.xlabel('k')\n",
    "plt.ylabel('Sum_of_squared_distances')\n",
    "plt.title('Inertia Values against the Number of Cluster k')"
   ]
  },
  {
   "cell_type": "markdown",
   "metadata": {
    "id": "shKZfbwTInB9"
   },
   "source": [
    "From the plot above, 6 is probably a good choice for the number of clusters.\\\n",
    "Below codes plot the K-means results. The locations on the map are the weighted first moment of the hurricane tracks. In the example code, the weights were set to be 1 meaning that the first moment is the sample mean (see section 3.1 description).\n",
    "\n",
    "Note that if you run the code again the ordering of the clusters changes"
   ]
  },
  {
   "cell_type": "code",
   "execution_count": null,
   "metadata": {
    "colab": {
     "base_uri": "https://localhost:8080/",
     "height": 846
    },
    "id": "40KwAr3sIlEd",
    "outputId": "9a137837-b97e-4fc9-ad8e-c23be04bfbd5"
   },
   "outputs": [],
   "source": [
    "km = k_means(moment_lst, n_clusters=8)\n",
    "# print(km[0])\n",
    "\n",
    "colors = ['black', 'red', 'blue', 'yellow', 'green', 'magenta', 'brown', 'orange']\n",
    "labels = km[1]\n",
    "ax = map_background()\n",
    "for k in range(len(moment_lst)):\n",
    "    ax.plot(moment_lst[k][0], moment_lst[k][1], c=colors[labels[k]], marker='*')\n",
    "plt.title('K-means clustering result, 6 clusters')"
   ]
  },
  {
   "cell_type": "code",
   "execution_count": null,
   "metadata": {},
   "outputs": [],
   "source": [
    "# consider a different number of clusters (colors set for up to 12, add more colors if you want more clusters)\n",
    "km = k_means(moment_lst, n_clusters=12)\n",
    "# print(km[0])\n",
    "\n",
    "colors = ['black', 'red', 'blue', 'yellow', 'green', 'magenta','orange','gray','white','cyan','purple','brown']\n",
    "labels = km[1]\n",
    "ax = map_background()\n",
    "for k in range(len(moment_lst)):\n",
    "    ax.plot(moment_lst[k][0], moment_lst[k][1], c=colors[labels[k]], marker='*')\n",
    "plt.title('K-means clustering result')"
   ]
  },
  {
   "cell_type": "markdown",
   "metadata": {
    "id": "QQNSM91R5D7b"
   },
   "source": [
    "## 3.5 Other Summary Statistics and example comparisons"
   ]
  },
  {
   "cell_type": "markdown",
   "metadata": {},
   "source": [
    "### 3.5.1 Distance traveled"
   ]
  },
  {
   "cell_type": "markdown",
   "metadata": {
    "id": "D0EFXDWTDHzV"
   },
   "source": [
    "Compare the $\\Delta$ lon and $\\Delta$ lat between these two interval of years (2000\\~2010 against 1990\\~1999).\\\n",
    "$\\Delta$ lon is the maximum value of distance of travel of a hurricane from its start to its end location in its longitude (same as the what [np.ptp](https://numpy.org/doc/stable/reference/generated/numpy.ptp.html) does)."
   ]
  },
  {
   "cell_type": "code",
   "execution_count": null,
   "metadata": {
    "colab": {
     "base_uri": "https://localhost:8080/",
     "height": 349
    },
    "id": "5mCB4GxbDHb9",
    "outputId": "254c2bdc-17be-445a-cf43-9212b1db2e75"
   },
   "outputs": [],
   "source": [
    "def delta_lon_lat(storm):\n",
    "  lon_lst, lat_lst = get_lon_lat(storm)\n",
    "  return [np.ptp(lon_lst), np.ptp(lat_lst)]\n",
    "\n",
    "storms_1 = tks.where((tks.season >= 2000) & (tks.season <= 2010), drop=True)\n",
    "storms_2 = tks.where((tks.season >= 1990) & (tks.season <= 1999), drop=True)\n",
    "N1, N2 = storms_1.dims['storm'], storms_2.dims['storm']\n",
    "print(f\"{storms_1.dims['storm']} storms between year 2000 and 2010, \\\n",
    "        {storms_2.dims['storm']} storms between year 1990 and 1999.\\n\")\n",
    "\n",
    "d_lst_1 = [delta_lon_lat(storms_1.sel(storm=i)) for i in range(N1)]\n",
    "d_lst_1 = np.transpose(d_lst_1)\n",
    "\n",
    "d_lst_2 = [delta_lon_lat(storms_2.sel(storm=i)) for i in range(N2)]\n",
    "d_lst_2 = np.transpose(d_lst_2)\n",
    "\n",
    "\n",
    "fig, axs = plt.subplots(1,2,figsize=(8,3)) # gridspec_kw={'height_ratios': [1, 2]}\n",
    "\n",
    "for j in range(2):\n",
    "  axs[j].hist(d_lst_1[j], label='2000~2010')\n",
    "  axs[j].hist(d_lst_2[j], label='1990~1999')\n",
    "  axs[j].legend()\n",
    "axs[0].title.set_text('Delta longitude')\n",
    "axs[1].title.set_text('Delta latitude')\n",
    "\n"
   ]
  },
  {
   "cell_type": "markdown",
   "metadata": {
    "id": "tNu5JsTYevkT"
   },
   "source": [
    "It can be seen from the above graphs that hurricanes traveled greater distance in 2000\\~2010 compared to 1990~1999."
   ]
  },
  {
   "cell_type": "markdown",
   "metadata": {
    "id": "ywX0HypAiP0I"
   },
   "source": [
    "### 3.5.2 Naming hurricanes\n",
    "\n",
    "Many hurricane in the data set have a name. We use the codes below to visualize the predominant gender of the names used.\n",
    "\n",
    "Here is some [history of the hurricane naming system](https://www.nhc.noaa.gov/aboutnames_history.shtml):\n",
    "\n",
    "+ 1953 - 1977: The United States only used female names for hurricanes.\n",
    "+ 1978 - present: Both female and male names are used.\n",
    "\n",
    "We use the [gender.Detector](https://pypi.org/project/gender-guesser/) to automatically infer the predominant gender of each name found in the data set.\n",
    "\n",
    "Note that in the output below, a very few percentage of names are marked 'Andy' which means it's a gender-neutral or an unisex name (are you woke enough?)."
   ]
  },
  {
   "cell_type": "code",
   "execution_count": null,
   "metadata": {
    "colab": {
     "base_uri": "https://localhost:8080/",
     "height": 943
    },
    "id": "13wOe5V5jzze",
    "outputId": "f747213b-a696-4dcf-c55a-998c22c60761"
   },
   "outputs": [],
   "source": [
    "def plot_pie_chart(storms, period):\n",
    "  # a function to plot pie chart the genders of names given a bunch of storms\n",
    "\n",
    "  all_names = [str(name)[2:-1] for name in storms.name.values]\n",
    "  all_names = [x for x in all_names if x!='NOT_NAMED'] # clean the unnamed cases\n",
    "  print(f\"In total there are {len(all_names)} named hurricanes {period}.\\n\")\n",
    "\n",
    "  gender_lst = [d.get_gender(name) for name in all_names]\n",
    "  gender_lst = [x for x in gender_lst if x!='unknown'] # clean the unknown names\n",
    "\n",
    "  # Data (counts)\n",
    "  genders_category = Counter(gender_lst).keys()  # equals to list(set(list))\n",
    "  genders_count = Counter(gender_lst).values() # counts the elements' frequency\n",
    "  explode = [0.11 if x==max(genders_count) else 0 for x in genders_count]\n",
    "\n",
    "  # plot\n",
    "  fig1, ax1 = plt.subplots()\n",
    "  ax1.pie(genders_count, explode=explode, labels=genders_category, autopct='%1.1f%%',\n",
    "          shadow=True, startangle=0)\n",
    "  ax1.axis('equal')\n",
    "  ax1.title.set_text(f'Gender counts for names {period}')\n",
    "\n",
    "\n",
    "\n",
    "d = gender.Detector(case_sensitive=False)\n",
    "gen = d.get_gender(\"Ophelia\")\n",
    "print(f\"Ophelia is deemed a {gen} name.\\n\")\n",
    "storms = tks.where((tks.season >=1953)&(tks.season <=1979), drop=True)\n",
    "storms_1 = tks.where((tks.season >=1979), drop=True)\n",
    "\n",
    "plot_pie_chart(storms, period='during 1953-1979')\n",
    "plot_pie_chart(storms_1, period='after 1979')\n"
   ]
  },
  {
   "cell_type": "markdown",
   "metadata": {},
   "source": [
    "### 3.5.3 Not all systems are hurricanes. Classification of systems - hurricane? tropical storm? tropical depression? "
   ]
  },
  {
   "cell_type": "markdown",
   "metadata": {},
   "source": [
    "Below codes summarize the types of all the classified hurricanes in the record (in the NA basin).\n",
    "\n",
    "Storm classification by usa_status (according the documentation this is not the unique way of classifying the tracks)\n",
    "\n",
    "Status of system. Options:\n",
    "* DB - disturbance,\n",
    "* TD - tropical depression,\n",
    "* TS - tropical storm,\n",
    "* TY - typhoon,\n",
    "* ST - super typhoon,\n",
    "* TC - tropical cyclone,\n",
    "* HU,HR - hurricane,\n",
    "* SD - subtropical depression,\n",
    "* SS - subtropical storm,\n",
    "* EX - extratropical systems,\n",
    "* PT - post tropical,\n",
    "* IN - inland,\n",
    "* DS - dissipating,\n",
    "* LO - low,\n",
    "* WV - tropical wave,\n",
    "* ET - extrapolated,\n",
    "* MD - monsoon depression,\n",
    "* XX - unknown.\n",
    " \n",
    "documentation at https://www.ncei.noaa.gov/sites/default/files/2021-07/IBTrACS_v04_column_documentation.pdf"
   ]
  },
  {
   "cell_type": "code",
   "execution_count": null,
   "metadata": {},
   "outputs": [],
   "source": [
    "all_types = tks.usa_status.values\n",
    "print(np.shape(all_types))"
   ]
  },
  {
   "cell_type": "markdown",
   "metadata": {
    "id": "BxJD5mXfR63k"
   },
   "source": [
    "Notice the shape is (2344, 360), indicating that the classification of each system evolves along the 'date_time' axis. \\\n",
    "To identify a class for system across its whole track, we can define it as the one class that has the highest frequency throughout its lifetime.\n"
   ]
  },
  {
   "cell_type": "code",
   "execution_count": null,
   "metadata": {},
   "outputs": [],
   "source": [
    "class_lst = []\n",
    "\n",
    "for i in range(tks.dims['storm']):\n",
    "  types = [str(x)[2:-1] for x in all_types[i]]\n",
    "  types = [x for x in types if x!='']\n",
    "  # many of the recorded tracks are never given a class\n",
    "  if len(types)==0: continue\n",
    "  class_category = Counter(types).most_common(1)[0][0] # Select the most frequent class\n",
    "  class_lst.append(class_category)\n",
    "\n",
    "print(f'There are {len(class_lst)} systems in the North Atlantic that were classified at \\\n",
    "least once during its lifetime.\\n')\n",
    "\n",
    "# This helps center the labels.\n",
    "labels, counts = np.unique(class_lst, return_counts=True)\n",
    "plt.bar(labels, counts, align='center')\n",
    "plt.gca().set_xticks(labels)\n",
    "plt.title('Counts of the classification of all the tracks')"
   ]
  },
  {
   "cell_type": "markdown",
   "metadata": {
    "id": "v4JVGX54ZlbL"
   },
   "source": [
    "# References\n",
    "\n",
    "+ Nakamura, Jennifer, et al. \"Classifying North Atlantic tropical cyclone tracks by mass moments.\" Journal of Climate 22.20 (2009): [5481-5494](https://journals.ametsoc.org/configurable/content/journals$002fclim$002f22$002f20$002f2009jcli2828.1.xml?t:ac=journals%24002fclim%24002f22%24002f20%24002f2009jcli2828.1.xml).\n",
    "\n",
    "+ Nakamura, Jennifer, et al. \"Western North Pacific tropical cyclone model tracks in present and future climates.\" Journal of Geophysical Research: Atmospheres 122.18 (2017): [9721-9744](https://agupubs.onlinelibrary.wiley.com/doi/full/10.1002/2017JD027007)."
   ]
  },
  {
   "cell_type": "code",
   "execution_count": null,
   "metadata": {},
   "outputs": [],
   "source": []
  }
 ],
 "metadata": {
  "colab": {
   "provenance": []
  },
  "kernelspec": {
   "display_name": "Python 3 (ipykernel)",
   "language": "python",
   "name": "python3"
  },
  "language_info": {
   "codemirror_mode": {
    "name": "ipython",
    "version": 3
   },
   "file_extension": ".py",
   "mimetype": "text/x-python",
   "name": "python",
   "nbconvert_exporter": "python",
   "pygments_lexer": "ipython3",
   "version": "3.12.7"
  }
 },
 "nbformat": 4,
 "nbformat_minor": 4
}
