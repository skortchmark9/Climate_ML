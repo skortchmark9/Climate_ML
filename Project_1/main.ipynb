{
 "cells": [
  {
   "cell_type": "markdown",
   "metadata": {},
   "source": [
    "# Investigating Effects of Hurricanes on the Power Grid\n",
    "\n",
    "<description of problem, mention paper, investigation of question>"
   ]
  },
  {
   "cell_type": "markdown",
   "metadata": {},
   "source": [
    "Sam animations of Harvey, other storms"
   ]
  },
  {
   "cell_type": "markdown",
   "metadata": {},
   "source": [
    "# Clustering storms by landfall locations\n",
    "\n",
    "<plug in ian's code>\n",
    "<map, bar chart>"
   ]
  },
  {
   "cell_type": "markdown",
   "metadata": {},
   "source": [
    "# Clusters against power data\n",
    "\n",
    "samk plug in stuff here\n",
    "outages by cluster for storms of <x> intensity"
   ]
  },
  {
   "cell_type": "markdown",
   "metadata": {},
   "source": [
    "# Conclusions:\n",
    "* The data supports the hypothesis that hurricane location is a more significant predictor of blackouts than intensity"
   ]
  }
 ],
 "metadata": {
  "language_info": {
   "name": "python"
  }
 },
 "nbformat": 4,
 "nbformat_minor": 2
}
